{
 "cells": [
  {
   "cell_type": "code",
   "execution_count": 1,
   "id": "9d646eef-c749-454d-8bff-05f13da701c8",
   "metadata": {},
   "outputs": [],
   "source": [
    "class Person:\n",
    "    def __init__(self):\n",
    "        print('object')"
   ]
  },
  {
   "cell_type": "code",
   "execution_count": 2,
   "id": "07844d1c-09a3-4a10-b81d-f63a6091a91b",
   "metadata": {},
   "outputs": [
    {
     "name": "stdout",
     "output_type": "stream",
     "text": [
      "object\n",
      "object\n"
     ]
    }
   ],
   "source": [
    "p1 = Person()\n",
    "p2 = Person()"
   ]
  },
  {
   "cell_type": "code",
   "execution_count": 3,
   "id": "a62e0c5b-08bb-41dc-a59b-13d3214535bf",
   "metadata": {},
   "outputs": [
    {
     "name": "stdout",
     "output_type": "stream",
     "text": [
      "1681403330912 1681426661232 1681422366224\n"
     ]
    }
   ],
   "source": [
    "print(id(Person), id(p1), id(p2))"
   ]
  },
  {
   "cell_type": "code",
   "execution_count": 4,
   "id": "c114bc7f-c4b4-467d-94bd-e34dac19768f",
   "metadata": {},
   "outputs": [],
   "source": [
    "class Person:\n",
    "    count = 0\n",
    "    \n",
    "    def __init__(self, name):\n",
    "        self.age = 3000\n",
    "        self.name = name\n",
    "        Person.count += 1\n",
    "    def get_count(self):\n",
    "        return Person.count"
   ]
  },
  {
   "cell_type": "code",
   "execution_count": 5,
   "id": "f7bb39e3-cf9d-4249-aac4-51825a721dec",
   "metadata": {},
   "outputs": [],
   "source": [
    "p1= Person('james')\n",
    "p2 = Person('max')"
   ]
  },
  {
   "cell_type": "markdown",
   "id": "8509654e-ad25-4733-96e7-c9c259bdf8f8",
   "metadata": {},
   "source": [
    "객체 메소드는 동일한 함수를 참조함"
   ]
  },
  {
   "cell_type": "code",
   "execution_count": 8,
   "id": "90259aa1-9e5c-413b-9f75-c8d18238bb70",
   "metadata": {},
   "outputs": [
    {
     "name": "stdout",
     "output_type": "stream",
     "text": [
      "1681425629952 1681425629952\n"
     ]
    }
   ],
   "source": [
    "print(id(p1.get_count), id(p2.get_count))"
   ]
  },
  {
   "cell_type": "code",
   "execution_count": 10,
   "id": "64ef5197-732c-424b-b5eb-4b3571aed185",
   "metadata": {},
   "outputs": [
    {
     "data": {
      "text/plain": [
       "2"
      ]
     },
     "execution_count": 10,
     "metadata": {},
     "output_type": "execute_result"
    }
   ],
   "source": [
    "p1.count"
   ]
  },
  {
   "cell_type": "markdown",
   "id": "37d39f2d-d80a-4b4f-9c7d-43a85ba74b57",
   "metadata": {},
   "source": [
    "인스턴스의 count 는 모두 클래스 count를 참조하고 있음을 알 수 있습니다.\n",
    "\n",
    "즉, Person.count 의 숫자를 바꾸면 모든 인스턴스의 count 또한 바뀌게 됩니다."
   ]
  },
  {
   "cell_type": "code",
   "execution_count": 11,
   "id": "15ebaabb-d327-4781-a8b8-dd7d8cfd078b",
   "metadata": {},
   "outputs": [],
   "source": [
    "Person.count = 200"
   ]
  },
  {
   "cell_type": "code",
   "execution_count": 12,
   "id": "fa262d14-6387-4d56-a9ae-742333b2d96c",
   "metadata": {},
   "outputs": [
    {
     "name": "stdout",
     "output_type": "stream",
     "text": [
      "200 200 200\n"
     ]
    }
   ],
   "source": [
    "print(Person.count, p1.count, p2.count)"
   ]
  },
  {
   "cell_type": "markdown",
   "id": "742af25b-932d-4ad2-a075-09e66788329c",
   "metadata": {},
   "source": [
    "인스턴스의 count 의 값을 바꾸게 되면 새로 설정한 인스턴스 속성의 값을 반환하게 됩니다. 나머지는 그대로 클래스 속성을 반환합니다."
   ]
  },
  {
   "cell_type": "code",
   "execution_count": 13,
   "id": "c9015b0f-9c64-4509-8dc3-1b5d0656388a",
   "metadata": {},
   "outputs": [],
   "source": [
    "p2.count = 123"
   ]
  },
  {
   "cell_type": "code",
   "execution_count": 14,
   "id": "932634d0-08b2-4463-811a-3bbb36a559c5",
   "metadata": {},
   "outputs": [
    {
     "name": "stdout",
     "output_type": "stream",
     "text": [
      "200 200 123\n"
     ]
    }
   ],
   "source": [
    "print(Person.count, p1.count, p2.count)"
   ]
  },
  {
   "cell_type": "markdown",
   "id": "e3f2e73c-6fcb-433d-9f29-2ccc31938afe",
   "metadata": {},
   "source": [
    "p2 인스턴스 속성이 새로 만들어 졌음을 알 수 있습니다."
   ]
  },
  {
   "cell_type": "code",
   "execution_count": 15,
   "id": "853e3472-bfe1-4ffc-b2e9-59d48c47b29f",
   "metadata": {},
   "outputs": [
    {
     "name": "stdout",
     "output_type": "stream",
     "text": [
      "1681335261648 1681335261648 1681335259184\n"
     ]
    }
   ],
   "source": [
    "print(id(Person.count), id(p1.count), id(p2.count))"
   ]
  },
  {
   "cell_type": "markdown",
   "id": "0a1277e5-1cfb-4906-8470-7edf4ff4c39b",
   "metadata": {},
   "source": [
    "get_count() 메소드를 사용하면 여전히 클래스 속성을 반환할 수 있습니다."
   ]
  },
  {
   "cell_type": "code",
   "execution_count": 16,
   "id": "7e175a2b-73f7-446d-bce5-5a0c69c6160e",
   "metadata": {},
   "outputs": [
    {
     "data": {
      "text/plain": [
       "200"
      ]
     },
     "execution_count": 16,
     "metadata": {},
     "output_type": "execute_result"
    }
   ],
   "source": [
    "p2.get_count()"
   ]
  },
  {
   "cell_type": "markdown",
   "id": "41f53920-32ef-4903-9c89-ab1f68c00b2d",
   "metadata": {},
   "source": [
    "# 상속`"
   ]
  },
  {
   "cell_type": "code",
   "execution_count": 35,
   "id": "cf19acaf-43ed-4f9b-ac7c-79ba08bf5f6e",
   "metadata": {},
   "outputs": [],
   "source": [
    "class Human:\n",
    "    name = 'name'\n",
    "    age = 'age'\n",
    "    city = 'city'\n",
    "    \n",
    "    def show(self):\n",
    "        print('Human class')"
   ]
  },
  {
   "cell_type": "code",
   "execution_count": 36,
   "id": "d049ffc4-4a6d-4a5b-ad46-61cfd5a99669",
   "metadata": {},
   "outputs": [],
   "source": [
    "class Student(Human):\n",
    "    def __init__(self,name):\n",
    "        self.name = name\n",
    "    def show_name(self):\n",
    "        print('name is ',self.name)\n",
    "    def show_age(self,age):\n",
    "        print('age is ',self.age)"
   ]
  },
  {
   "cell_type": "code",
   "execution_count": 37,
   "id": "27ee1555-d231-4869-b366-b382fcda36b4",
   "metadata": {},
   "outputs": [],
   "source": [
    "man = Human()"
   ]
  },
  {
   "cell_type": "code",
   "execution_count": 38,
   "id": "43bb53c6-6528-4ae5-bf20-3bddb65b0b72",
   "metadata": {},
   "outputs": [
    {
     "data": {
      "text/plain": [
       "<__main__.Human at 0x1877e5cc9a0>"
      ]
     },
     "execution_count": 38,
     "metadata": {},
     "output_type": "execute_result"
    }
   ],
   "source": [
    "man"
   ]
  },
  {
   "cell_type": "code",
   "execution_count": 39,
   "id": "5bf6539d-68c8-438e-8b34-28c780014a4f",
   "metadata": {},
   "outputs": [],
   "source": [
    "a=Student('kevin')"
   ]
  },
  {
   "cell_type": "code",
   "execution_count": 40,
   "id": "9df180b7-3c56-4680-8968-4b8710df1b97",
   "metadata": {},
   "outputs": [
    {
     "data": {
      "text/plain": [
       "<__main__.Student at 0x1877e5ccbe0>"
      ]
     },
     "execution_count": 40,
     "metadata": {},
     "output_type": "execute_result"
    }
   ],
   "source": [
    "a"
   ]
  },
  {
   "cell_type": "code",
   "execution_count": 41,
   "id": "93d030c6-af4c-4a1e-abda-f0c2fdc3f9bd",
   "metadata": {},
   "outputs": [
    {
     "name": "stdout",
     "output_type": "stream",
     "text": [
      "Human class\n"
     ]
    }
   ],
   "source": [
    "a.show()"
   ]
  },
  {
   "cell_type": "code",
   "execution_count": 42,
   "id": "866ab192-8e40-4800-9fb5-e1fb7bf22c10",
   "metadata": {},
   "outputs": [
    {
     "name": "stdout",
     "output_type": "stream",
     "text": [
      "name is  kevin\n"
     ]
    }
   ],
   "source": [
    "a.show_name()"
   ]
  },
  {
   "cell_type": "code",
   "execution_count": 48,
   "id": "b61388e7-9a7a-4f21-9e15-6547b8514424",
   "metadata": {},
   "outputs": [
    {
     "name": "stdout",
     "output_type": "stream",
     "text": [
      "age is  age\n"
     ]
    }
   ],
   "source": [
    "a.show_age(20)"
   ]
  },
  {
   "cell_type": "code",
   "execution_count": 49,
   "id": "275b548b-1a14-4a5c-a809-8710b64c12c4",
   "metadata": {},
   "outputs": [
    {
     "ename": "TypeError",
     "evalue": "Student.show_age() missing 1 required positional argument: 'age'",
     "output_type": "error",
     "traceback": [
      "\u001b[1;31m---------------------------------------------------------------------------\u001b[0m",
      "\u001b[1;31mTypeError\u001b[0m                                 Traceback (most recent call last)",
      "Cell \u001b[1;32mIn[49], line 1\u001b[0m\n\u001b[1;32m----> 1\u001b[0m \u001b[43ma\u001b[49m\u001b[38;5;241;43m.\u001b[39;49m\u001b[43mshow_age\u001b[49m\u001b[43m(\u001b[49m\u001b[43m)\u001b[49m\n",
      "\u001b[1;31mTypeError\u001b[0m: Student.show_age() missing 1 required positional argument: 'age'"
     ]
    }
   ],
   "source": [
    "a.show_age()"
   ]
  },
  {
   "cell_type": "markdown",
   "id": "d619e30a-6e3b-437f-b15c-98e88dcd1eb6",
   "metadata": {},
   "source": [
    "# super()"
   ]
  },
  {
   "cell_type": "markdown",
   "id": "28e4a3d4-dd28-4503-bd7e-00c5bfc0964d",
   "metadata": {},
   "source": [
    "super() 라는 함수는 super class 즉, 부모클래스의 임시적인 객체를 반환하여 부모클래스의 메소드를 사용할 수 있게 하는 것 입니다."
   ]
  },
  {
   "cell_type": "code",
   "execution_count": 59,
   "id": "f76864d4-9984-4b4e-af0c-7d4d6c24fade",
   "metadata": {},
   "outputs": [],
   "source": [
    "class Human:\n",
    "    \"\"\" Super Class \"\"\"\n",
    "    def __init__(self):\n",
    "        # instance 속성!!\n",
    "        self.name  = '사람이름'\n",
    "        self.age   = '나이'\n",
    "        self.city  = '사는도시'\n",
    "\n",
    "    def show(self):\n",
    "        print('사람 클래스의 메소드입니다.')"
   ]
  },
  {
   "cell_type": "code",
   "execution_count": 60,
   "id": "a31f52d0-472c-4002-80d8-f6c92b22bdcf",
   "metadata": {},
   "outputs": [],
   "source": [
    "class Student(Human):\n",
    "    \"\"\" Child Class \"\"\"\n",
    "\n",
    "    def __init__(self,name):\n",
    "        super().__init__()\n",
    "        self.name = name\n",
    "\n",
    "    def show_name(self):\n",
    "        print('사람의 이름은 : ',self.name)\n",
    "\n",
    "    def show_age(self):\n",
    "        print('사람의 나이는 : ',self.age)"
   ]
  },
  {
   "cell_type": "code",
   "execution_count": 64,
   "id": "3a923ded-3d3a-475f-8074-bc96c78134b2",
   "metadata": {},
   "outputs": [],
   "source": [
    "a = Student('kevin')"
   ]
  },
  {
   "cell_type": "code",
   "execution_count": 65,
   "id": "4b561601-677e-402d-b677-f53f25fe8587",
   "metadata": {},
   "outputs": [
    {
     "name": "stdout",
     "output_type": "stream",
     "text": [
      "사람 클래스의 메소드입니다.\n",
      "None\n",
      "사람의 나이는 :  나이\n",
      "None\n",
      "사람의 이름은 :  kevin\n",
      "None\n"
     ]
    }
   ],
   "source": [
    "print(a.show())\n",
    "print(a.show_age())\n",
    "print(a.show_name())"
   ]
  },
  {
   "cell_type": "code",
   "execution_count": 66,
   "id": "8024b91d-2138-465c-afb8-e0ffdc2e205b",
   "metadata": {},
   "outputs": [
    {
     "name": "stdout",
     "output_type": "stream",
     "text": [
      "사람의 이름은 :  kevin\n",
      "None\n"
     ]
    }
   ],
   "source": [
    "print(a.show_name())"
   ]
  },
  {
   "cell_type": "code",
   "execution_count": 67,
   "id": "eef69e5b-23e1-48ee-bb81-bbbd6d054583",
   "metadata": {},
   "outputs": [],
   "source": [
    "class Human:\n",
    "    \"\"\" Super Class \"\"\"\n",
    "    def __init__(self):\n",
    "        # instance 속성!!\n",
    "        self.name  = '사람이름'\n",
    "        self.age   = '나이'\n",
    "        self.city  = '사는도시'\n",
    "\n",
    "    def show(self):\n",
    "        print('사람 클래스의 메소드입니다.')"
   ]
  },
  {
   "cell_type": "code",
   "execution_count": 68,
   "id": "3241cdfa-9838-41cd-89b7-23eed5224634",
   "metadata": {},
   "outputs": [],
   "source": [
    "class Student(Human):\n",
    "    \"\"\" Child Class \"\"\"\n",
    "\n",
    "    def __init__(self,name):\n",
    "        #변경부분\n",
    "        self.name = name\n",
    "        super().__init__()\n",
    "\n",
    "    def show_name(self):\n",
    "        print('사람의 이름은 : ',self.name)\n",
    "\n",
    "    def show_age(self):\n",
    "        print('사람의 나이는 : ',self.age)"
   ]
  },
  {
   "cell_type": "code",
   "execution_count": 69,
   "id": "5b435e6c-233e-4de3-8bdc-0833ebff4bdb",
   "metadata": {},
   "outputs": [
    {
     "name": "stdout",
     "output_type": "stream",
     "text": [
      "사람의 이름은 :  사람이름\n",
      "None\n"
     ]
    }
   ],
   "source": [
    "a = Student('kevin')\n",
    "print(a.show_name())"
   ]
  },
  {
   "cell_type": "markdown",
   "id": "5c83c9bb-a645-4920-9865-558623d37a15",
   "metadata": {},
   "source": [
    "### super().__init__() == super(B2,self).__init__()"
   ]
  },
  {
   "cell_type": "code",
   "execution_count": 73,
   "id": "4ff2f698-e58d-4ebd-8c26-a9fd2acd5a1d",
   "metadata": {},
   "outputs": [],
   "source": [
    "class A:\n",
    "    def __init__(self):\n",
    "        self.a = 10\n",
    "    def get_a(self):\n",
    "        return self.a\n",
    "class B(A):\n",
    "    def __init__(self):\n",
    "        super().__init__()\n",
    "        self.b = 20\n",
    "    def get_b(self):\n",
    "        return self.b\n",
    "class C(B):\n",
    "    def __init__(self):\n",
    "        super().__init__()\n",
    "        self.c = 30\n",
    "    def get_c(self):\n",
    "        return self.c"
   ]
  },
  {
   "cell_type": "code",
   "execution_count": 74,
   "id": "7d97447d-e698-4cc9-82e2-550e501bdddf",
   "metadata": {},
   "outputs": [],
   "source": [
    "new_c = C()"
   ]
  },
  {
   "cell_type": "code",
   "execution_count": 75,
   "id": "79a5b87c-09fd-4c98-8c4b-e59cc989d43d",
   "metadata": {},
   "outputs": [
    {
     "name": "stdout",
     "output_type": "stream",
     "text": [
      "10\n",
      "20\n",
      "30\n"
     ]
    }
   ],
   "source": [
    "print(new_c.get_a())\n",
    "print(new_c.get_b())\n",
    "print(new_c.get_c())"
   ]
  },
  {
   "cell_type": "code",
   "execution_count": 78,
   "id": "fc27262b-3c00-4839-9b6f-16e9c1a8ef2e",
   "metadata": {},
   "outputs": [],
   "source": [
    "class A2:\n",
    "    def __init__(self):\n",
    "        self.a = 10\n",
    "    def get_a(self):\n",
    "        return self.a\n",
    "class B2(A2):\n",
    "    def __init__(self):\n",
    "        super(B2,self).__init__()\n",
    "        self.b = 20\n",
    "    def get_b(self):\n",
    "        return self.b\n",
    "class C2(B2):\n",
    "    def __init__(self):\n",
    "        super(C2,self).__init__()\n",
    "        self.c = 30\n",
    "    def get_c(self):\n",
    "        return self.c"
   ]
  },
  {
   "cell_type": "code",
   "execution_count": 79,
   "id": "ecd12cb2-1ad3-4d62-978b-2eefac2707e9",
   "metadata": {},
   "outputs": [],
   "source": [
    "new_c2 = C2()"
   ]
  },
  {
   "cell_type": "code",
   "execution_count": 80,
   "id": "9ebf6107-f265-4ef1-a95f-68fbaecd2c38",
   "metadata": {},
   "outputs": [
    {
     "name": "stdout",
     "output_type": "stream",
     "text": [
      "10\n",
      "20\n",
      "30\n"
     ]
    }
   ],
   "source": [
    "print(new_c2.get_a())\n",
    "print(new_c2.get_b())\n",
    "print(new_c2.get_c())"
   ]
  },
  {
   "cell_type": "code",
   "execution_count": 84,
   "id": "68bce1ec-20ce-4b86-bf86-ff0657709b62",
   "metadata": {},
   "outputs": [],
   "source": [
    "class A3:\n",
    "    def __init__(self):\n",
    "        self.a = 10\n",
    "\n",
    "    def get_a(self):\n",
    "        return self.a\n",
    "\n",
    "class B3(A3):\n",
    "    def __init__(self):\n",
    "        super(B3,self).__init__()\n",
    "        self.b = 20\n",
    "\n",
    "    def get_b(self):\n",
    "        return self.b\n",
    "\n",
    "class C3(B3):\n",
    "    def __init__(self):\n",
    "        super(B3,self).__init__() #C3\n",
    "        self.c = 30\n",
    "\n",
    "    def get_c(self):\n",
    "        return self.c"
   ]
  },
  {
   "cell_type": "markdown",
   "id": "ca93491f-b48c-4482-8207-bd57bf821ac8",
   "metadata": {},
   "source": [
    "get_b() 메소드는 class C(B)에 의해 상속 받았지만,\n",
    "\n",
    "클래스 B의 인스턴스 속성인 self.b 는 class C에 존재하지 않게 됩니다. "
   ]
  },
  {
   "cell_type": "code",
   "execution_count": 83,
   "id": "e031c81e-eb54-4951-8cfe-7029c5ed9ae4",
   "metadata": {},
   "outputs": [
    {
     "name": "stdout",
     "output_type": "stream",
     "text": [
      "10\n",
      "30\n"
     ]
    },
    {
     "ename": "AttributeError",
     "evalue": "'C3' object has no attribute 'b'",
     "output_type": "error",
     "traceback": [
      "\u001b[1;31m---------------------------------------------------------------------------\u001b[0m",
      "\u001b[1;31mAttributeError\u001b[0m                            Traceback (most recent call last)",
      "Cell \u001b[1;32mIn[83], line 4\u001b[0m\n\u001b[0;32m      2\u001b[0m \u001b[38;5;28mprint\u001b[39m(new_c3\u001b[38;5;241m.\u001b[39mget_a())\n\u001b[0;32m      3\u001b[0m \u001b[38;5;28mprint\u001b[39m(new_c3\u001b[38;5;241m.\u001b[39mget_c())\n\u001b[1;32m----> 4\u001b[0m \u001b[38;5;28mprint\u001b[39m(\u001b[43mnew_c3\u001b[49m\u001b[38;5;241;43m.\u001b[39;49m\u001b[43mget_b\u001b[49m\u001b[43m(\u001b[49m\u001b[43m)\u001b[49m)\n",
      "Cell \u001b[1;32mIn[81], line 14\u001b[0m, in \u001b[0;36mB3.get_b\u001b[1;34m(self)\u001b[0m\n\u001b[0;32m     13\u001b[0m \u001b[38;5;28;01mdef\u001b[39;00m \u001b[38;5;21mget_b\u001b[39m(\u001b[38;5;28mself\u001b[39m):\n\u001b[1;32m---> 14\u001b[0m     \u001b[38;5;28;01mreturn\u001b[39;00m \u001b[38;5;28;43mself\u001b[39;49m\u001b[38;5;241;43m.\u001b[39;49m\u001b[43mb\u001b[49m\n",
      "\u001b[1;31mAttributeError\u001b[0m: 'C3' object has no attribute 'b'"
     ]
    }
   ],
   "source": [
    "new_c3 = C3()\n",
    "print(new_c3.get_a())\n",
    "print(new_c3.get_c())\n",
    "print(new_c3.get_b())"
   ]
  },
  {
   "cell_type": "markdown",
   "id": "eb336ceb-f647-479c-ab7e-8e733ee7e33d",
   "metadata": {},
   "source": [
    "# Magic Methods 다루기 - 1. 생성, 초기화( __new__, __init__, __del__)"
   ]
  },
  {
   "cell_type": "markdown",
   "id": "6d73b471-60d5-4c3e-8030-e4d8201bab77",
   "metadata": {},
   "source": [
    "- \\_\\_new__(cls, ...)\n",
    "- \\_\\_init__(self, ...)\n",
    "- \\_\\_del__(self)"
   ]
  },
  {
   "cell_type": "markdown",
   "id": "61fd5374-f431-4e08-82cb-e8507707c1ee",
   "metadata": {},
   "source": [
    "## \\_\\_new__(cls, ...) "
   ]
  },
  {
   "cell_type": "markdown",
   "id": "504a755e-9caf-4453-87ec-75716b84633b",
   "metadata": {},
   "source": [
    "새로운 인스턴스 형성시 가장 처음으로 실행되는 메소드입니다. class를 입력으로 받고, 입력받은 나머지 인자들은 그대로 __init__ 으로 넘겨 줍니다. 어떤 인스턴스를 생성함에 앞서 어떠한 조건을 설정할 수 있습니다. \\_\\_new\\_\\_ 메소드는 어떠한 객체(object)를 반환해야 합니다. "
   ]
  },
  {
   "cell_type": "markdown",
   "id": "18b342cb-eb96-45b2-80f7-0bb30eb68f5f",
   "metadata": {},
   "source": [
    "사람의 이름은 문자열로만 받고 싶습니다.\n",
    "\n",
    "이름이 문자열이 아니라면 객체를 형성하지 않고 문자열로 달라는 메시지를 출력합니다.\n",
    "\n",
    "이름이 문자열이라면 객체를 형성합니다. 그리고 나머지 인자는 \\_\\_init\\_\\_으로 전달합니다. "
   ]
  },
  {
   "cell_type": "code",
   "execution_count": 88,
   "id": "257c6f73-527e-43cf-95a1-ebec654fdff6",
   "metadata": {},
   "outputs": [],
   "source": [
    "class Person_name(object):\n",
    "    def __new__(cls,name):\n",
    "        if isinstance(name,str):\n",
    "            return super(Person_name,cls).__new__(cls)\n",
    "        else:\n",
    "            print('is not string')\n",
    "    def __init__(self,name):\n",
    "        self.name = name"
   ]
  },
  {
   "cell_type": "code",
   "execution_count": 89,
   "id": "11a8ff40-3b69-4b2f-b4b2-79a21ddce9ee",
   "metadata": {},
   "outputs": [
    {
     "name": "stdout",
     "output_type": "stream",
     "text": [
      "is not string\n"
     ]
    }
   ],
   "source": [
    "p1 = Person_name(90)"
   ]
  },
  {
   "cell_type": "code",
   "execution_count": 90,
   "id": "7adea6fa-c4eb-4aa2-83d3-1e0858156fb9",
   "metadata": {},
   "outputs": [],
   "source": [
    "p2 = Person_name('kevin')"
   ]
  },
  {
   "cell_type": "code",
   "execution_count": 93,
   "id": "c43f0f52-d7fd-424c-aee4-f63af5e9cd63",
   "metadata": {},
   "outputs": [
    {
     "data": {
      "text/plain": [
       "'kevin'"
      ]
     },
     "execution_count": 93,
     "metadata": {},
     "output_type": "execute_result"
    }
   ],
   "source": [
    "p2.name"
   ]
  },
  {
   "cell_type": "markdown",
   "id": "4f3942d0-4fd8-4e7b-83f3-74733ccb2cd7",
   "metadata": {},
   "source": [
    "## \\_\\_del__(self, ...) "
   ]
  },
  {
   "cell_type": "markdown",
   "id": "6e828920-3bba-40aa-8d1d-e7b16e26111e",
   "metadata": {},
   "source": [
    "\\_\\_del__ 의 경우엔 파괴자(destructor)역할을 담당합니다. 어떤 객체가 소멸할때 해야할 일을 지정할 수 있습니다. 그러나 경우에 따라 작동하지 않을 수도 있으므로 사용시 주의를 기울여야 합니다."
   ]
  },
  {
   "cell_type": "markdown",
   "id": "150b4d76-f45d-4952-9fc1-19a6ada8e689",
   "metadata": {},
   "source": [
    "어떤 파일객체를 생성함과 동시에 파일을 생성합니다.\n",
    "\n",
    "객체가 사라질때 반드시 파일이 닫혀지도록 설정합니다."
   ]
  },
  {
   "cell_type": "code",
   "execution_count": 94,
   "id": "6af082e7-7d3b-4717-ae7c-5b459b7caa9a",
   "metadata": {},
   "outputs": [],
   "source": [
    "from os.path import join"
   ]
  },
  {
   "cell_type": "code",
   "execution_count": 96,
   "id": "99c992df-9132-4c42-b1ce-50bb6ed8778e",
   "metadata": {},
   "outputs": [],
   "source": [
    "class FileObject:\n",
    "    def __init__(self,filepath='./',filename='sameple.txt'):\n",
    "        self.file = open(join(filepath, filename),'w')\n",
    "    \n",
    "    def __del__(self):\n",
    "        self.file.close()\n",
    "        del self.file"
   ]
  },
  {
   "cell_type": "code",
   "execution_count": 97,
   "id": "4b8dcbfe-99b7-40c7-bfa7-dd5897575dfd",
   "metadata": {},
   "outputs": [],
   "source": [
    "f = FileObject()"
   ]
  },
  {
   "cell_type": "code",
   "execution_count": null,
   "id": "3fb111e1-48b9-4b39-a16a-b31bc6758d0d",
   "metadata": {},
   "outputs": [],
   "source": []
  }
 ],
 "metadata": {
  "kernelspec": {
   "display_name": "Python 3 (ipykernel)",
   "language": "python",
   "name": "python3"
  },
  "language_info": {
   "codemirror_mode": {
    "name": "ipython",
    "version": 3
   },
   "file_extension": ".py",
   "mimetype": "text/x-python",
   "name": "python",
   "nbconvert_exporter": "python",
   "pygments_lexer": "ipython3",
   "version": "3.10.9"
  }
 },
 "nbformat": 4,
 "nbformat_minor": 5
}
