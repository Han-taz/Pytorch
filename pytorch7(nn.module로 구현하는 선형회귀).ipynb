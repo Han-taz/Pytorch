{
 "cells": [
  {
   "cell_type": "code",
   "execution_count": 3,
   "id": "aee130c4-8788-444d-8e4e-70603e4b8cd0",
   "metadata": {},
   "outputs": [],
   "source": [
    "import torch\n",
    "import torch.nn as nn\n",
    "import torch.nn.functional as F"
   ]
  },
  {
   "cell_type": "code",
   "execution_count": 4,
   "id": "47350577-5ba4-4f38-ab51-9ad8585e6c1c",
   "metadata": {},
   "outputs": [
    {
     "data": {
      "text/plain": [
       "<torch._C.Generator at 0x25377c3c5d0>"
      ]
     },
     "execution_count": 4,
     "metadata": {},
     "output_type": "execute_result"
    }
   ],
   "source": [
    "torch.manual_seed(42)"
   ]
  },
  {
   "cell_type": "markdown",
   "id": "456d4056-e5b2-49b3-b09c-cf250f3c9f39",
   "metadata": {},
   "source": [
    "## y=2x"
   ]
  },
  {
   "cell_type": "code",
   "execution_count": 5,
   "id": "50892e7b-4677-4551-839d-51cb6e45d1d0",
   "metadata": {},
   "outputs": [],
   "source": [
    "x_train = torch.FloatTensor([[1], [2], [3]])\n",
    "y_train = torch.FloatTensor([[2], [4], [6]])"
   ]
  },
  {
   "cell_type": "code",
   "execution_count": 6,
   "id": "0c559e98-8902-4c50-a763-443112d16cdf",
   "metadata": {},
   "outputs": [],
   "source": [
    "# 모델을 선언 및 초기화. 단순 선형 회귀이므로 input_dim=1, output_dim=1.\n",
    "model = nn.Linear(1,1)"
   ]
  },
  {
   "cell_type": "markdown",
   "id": "71fbe558-5c4f-490a-b399-6ca02ce7e6c2",
   "metadata": {},
   "source": [
    "2개의 값이 출력되는데 첫번째 값이 W(tensor([[0.7645]])고, 두번째 값이 b(tensor([0.8300])에 해당됩니다. 두 값 모두 현재는 랜덤 초기화가 되어져 있습니다. 그리고 두 값 모두 학습의 대상이므로 requires_grad=True가 되어져 있는 것을 볼 수 있습니다."
   ]
  },
  {
   "cell_type": "code",
   "execution_count": 7,
   "id": "c6b72111-123c-4f3a-84be-d4a62ad93a3f",
   "metadata": {},
   "outputs": [
    {
     "name": "stdout",
     "output_type": "stream",
     "text": [
      "[Parameter containing:\n",
      "tensor([[0.7645]], requires_grad=True), Parameter containing:\n",
      "tensor([0.8300], requires_grad=True)]\n"
     ]
    }
   ],
   "source": [
    "print(list(model.parameters()))"
   ]
  },
  {
   "cell_type": "code",
   "execution_count": 9,
   "id": "5ec8a38c-c326-4cbf-8779-f53c4400e73e",
   "metadata": {},
   "outputs": [],
   "source": [
    "optimizer = torch.optim.SGD(model.parameters(), lr=0.01) "
   ]
  },
  {
   "cell_type": "code",
   "execution_count": 12,
   "id": "744626bb-1ab1-440b-8728-29d320d9e9f5",
   "metadata": {},
   "outputs": [
    {
     "name": "stdout",
     "output_type": "stream",
     "text": [
      "Epoch    0/2000 Cost: 3.710179\n",
      "Epoch  100/2000 Cost: 0.117398\n",
      "Epoch  200/2000 Cost: 0.072545\n",
      "Epoch  300/2000 Cost: 0.044828\n",
      "Epoch  400/2000 Cost: 0.027701\n",
      "Epoch  500/2000 Cost: 0.017118\n",
      "Epoch  600/2000 Cost: 0.010578\n",
      "Epoch  700/2000 Cost: 0.006536\n",
      "Epoch  800/2000 Cost: 0.004039\n",
      "Epoch  900/2000 Cost: 0.002496\n",
      "Epoch 1000/2000 Cost: 0.001542\n",
      "Epoch 1100/2000 Cost: 0.000953\n",
      "Epoch 1200/2000 Cost: 0.000589\n",
      "Epoch 1300/2000 Cost: 0.000364\n",
      "Epoch 1400/2000 Cost: 0.000225\n",
      "Epoch 1500/2000 Cost: 0.000139\n",
      "Epoch 1600/2000 Cost: 0.000086\n",
      "Epoch 1700/2000 Cost: 0.000053\n",
      "Epoch 1800/2000 Cost: 0.000033\n",
      "Epoch 1900/2000 Cost: 0.000020\n",
      "Epoch 2000/2000 Cost: 0.000013\n"
     ]
    }
   ],
   "source": [
    "epochs = 2000\n",
    "for epoch in range(epochs+1):\n",
    "    \n",
    "    prediction = model(x_train)\n",
    "    \n",
    "    cost = F.mse_loss(prediction,y_train)\n",
    "    \n",
    "    optimizer.zero_grad()\n",
    "    cost.backward()\n",
    "    optimizer.step()\n",
    "    \n",
    "    if epoch % 100 == 0:\n",
    "         print('Epoch {:4d}/{} Cost: {:.6f}'.format(\n",
    "          epoch, epochs, cost.item()\n",
    "      ))"
   ]
  },
  {
   "cell_type": "markdown",
   "id": "8f4cb829-7f04-4db8-b810-49f81b91bdcd",
   "metadata": {},
   "source": [
    "# 추론"
   ]
  },
  {
   "cell_type": "code",
   "execution_count": 13,
   "id": "54a0441a-b61c-4685-b933-2a2fcadbe158",
   "metadata": {},
   "outputs": [],
   "source": [
    "new_var = torch.FloatTensor([4.0])"
   ]
  },
  {
   "cell_type": "code",
   "execution_count": 16,
   "id": "f20dda60-ba4d-4c9c-9df7-4105a5319dbb",
   "metadata": {},
   "outputs": [
    {
     "data": {
      "text/plain": [
       "tensor([4.])"
      ]
     },
     "execution_count": 16,
     "metadata": {},
     "output_type": "execute_result"
    }
   ],
   "source": [
    "new_var"
   ]
  },
  {
   "cell_type": "code",
   "execution_count": 17,
   "id": "21e47ce0-999c-4fad-8e18-7a2f8d029d05",
   "metadata": {},
   "outputs": [
    {
     "data": {
      "text/plain": [
       "tensor([7.9929], grad_fn=<AddBackward0>)"
      ]
     },
     "execution_count": 17,
     "metadata": {},
     "output_type": "execute_result"
    }
   ],
   "source": [
    "pred_y = model(new_var)\n",
    "pred_y"
   ]
  },
  {
   "cell_type": "markdown",
   "id": "30a50f7f-9fe4-4a05-b014-8cc11ae8711c",
   "metadata": {},
   "source": [
    "## W & b 출력"
   ]
  },
  {
   "cell_type": "code",
   "execution_count": 18,
   "id": "8e47ea09-e0e1-4610-a2b5-d76821c4b57d",
   "metadata": {},
   "outputs": [
    {
     "name": "stdout",
     "output_type": "stream",
     "text": [
      "[Parameter containing:\n",
      "tensor([[1.9959]], requires_grad=True), Parameter containing:\n",
      "tensor([0.0093], requires_grad=True)]\n"
     ]
    }
   ],
   "source": [
    "#W의 값이 2에 가깝고, b의 값이 0에 가까운 것을 볼 수 있습니다.\n",
    "print(list(model.parameters()))"
   ]
  },
  {
   "cell_type": "markdown",
   "id": "06ea54c6-c487-4394-b3fd-64a1b2dfcc9b",
   "metadata": {},
   "source": [
    "# 다중 선형 회귀"
   ]
  },
  {
   "cell_type": "code",
   "execution_count": 19,
   "id": "03260f1b-d55c-4bb4-a706-6234a8c1533d",
   "metadata": {},
   "outputs": [],
   "source": [
    "import torch\n",
    "import torch.nn as nn\n",
    "import torch.nn.functional as F"
   ]
  },
  {
   "cell_type": "code",
   "execution_count": 20,
   "id": "ea002cc1-7238-4bec-b30b-b140f27d7f60",
   "metadata": {},
   "outputs": [
    {
     "data": {
      "text/plain": [
       "<torch._C.Generator at 0x25377c3c5d0>"
      ]
     },
     "execution_count": 20,
     "metadata": {},
     "output_type": "execute_result"
    }
   ],
   "source": [
    "torch.manual_seed(42)"
   ]
  },
  {
   "cell_type": "markdown",
   "id": "2e4a06f5-25e8-4d50-9a31-f6a05d3a499a",
   "metadata": {},
   "source": [
    "## 3개의 x로부터 하나의 y를 예측하는 문제입니다."
   ]
  },
  {
   "cell_type": "code",
   "execution_count": 21,
   "id": "84b8e3da-a86a-46fe-a34e-5e490a7f1b60",
   "metadata": {},
   "outputs": [],
   "source": [
    "x_train = torch.FloatTensor([[73, 80, 75],\n",
    "                             [93, 88, 93],\n",
    "                             [89, 91, 90],\n",
    "                             [96, 98, 100],\n",
    "                             [73, 66, 70]])\n",
    "y_train = torch.FloatTensor([[152], [185], [180], [196], [142]])"
   ]
  },
  {
   "cell_type": "code",
   "execution_count": 22,
   "id": "7203c809-a376-4e44-93d2-e9120c9355d6",
   "metadata": {},
   "outputs": [
    {
     "name": "stdout",
     "output_type": "stream",
     "text": [
      "torch.Size([5, 3])\n",
      "torch.Size([5, 1])\n"
     ]
    }
   ],
   "source": [
    "print(x_train.shape)\n",
    "print(y_train.shape)"
   ]
  },
  {
   "cell_type": "code",
   "execution_count": 24,
   "id": "9bbb5032-b7d2-46e2-8996-43ac9875612a",
   "metadata": {},
   "outputs": [],
   "source": [
    "#(5x3)*(3x1)=(5x1)"
   ]
  },
  {
   "cell_type": "code",
   "execution_count": 25,
   "id": "a8eca283-0d92-4e1d-875a-8848e0defd7e",
   "metadata": {},
   "outputs": [],
   "source": [
    "# 모델을 선언 및 초기화. 다중 선형 회귀이므로 input_dim=3, output_dim=1.\n",
    "model = nn.Linear(3,1)"
   ]
  },
  {
   "cell_type": "code",
   "execution_count": 27,
   "id": "1ae80886-f7fe-43bf-8276-d63cba038fe8",
   "metadata": {},
   "outputs": [
    {
     "name": "stdout",
     "output_type": "stream",
     "text": [
      "[Parameter containing:\n",
      "tensor([[-0.1265,  0.1165, -0.2811]], requires_grad=True), Parameter containing:\n",
      "tensor([0.3391], requires_grad=True)]\n"
     ]
    }
   ],
   "source": [
    "#첫번째 출력되는 것이 3개의 w고, 두번째 출력되는 것이 b에 해당됩니다. 두 값 모두 현재는 랜덤 초기화가 되어져 있습니다. 그리고 두 출력 결과 모두 학습의 대상이므로 requires_grad=True가 되어져 있는 것을 볼 수 있습니다.\n",
    "\n",
    "\n",
    "print(list(model.parameters()))"
   ]
  },
  {
   "cell_type": "code",
   "execution_count": 28,
   "id": "54e0c1a6-5bc4-4e97-8423-938ecf31c6fb",
   "metadata": {},
   "outputs": [],
   "source": [
    "optimizer = torch.optim.SGD(model.parameters(), lr=1e-5) "
   ]
  },
  {
   "cell_type": "code",
   "execution_count": 29,
   "id": "23f164fc-5ece-40f6-8de2-4d9aec680562",
   "metadata": {},
   "outputs": [
    {
     "name": "stdout",
     "output_type": "stream",
     "text": [
      "Epoch    0/2000 Cost: 38818.851562\n",
      "Epoch  100/2000 Cost: 3.658000\n",
      "Epoch  200/2000 Cost: 3.474529\n",
      "Epoch  300/2000 Cost: 3.300751\n",
      "Epoch  400/2000 Cost: 3.136089\n",
      "Epoch  500/2000 Cost: 2.980164\n",
      "Epoch  600/2000 Cost: 2.832420\n",
      "Epoch  700/2000 Cost: 2.692471\n",
      "Epoch  800/2000 Cost: 2.559922\n",
      "Epoch  900/2000 Cost: 2.434353\n",
      "Epoch 1000/2000 Cost: 2.315395\n",
      "Epoch 1100/2000 Cost: 2.202666\n",
      "Epoch 1200/2000 Cost: 2.095948\n",
      "Epoch 1300/2000 Cost: 1.994812\n",
      "Epoch 1400/2000 Cost: 1.899012\n",
      "Epoch 1500/2000 Cost: 1.808279\n",
      "Epoch 1600/2000 Cost: 1.722307\n",
      "Epoch 1700/2000 Cost: 1.640879\n",
      "Epoch 1800/2000 Cost: 1.563746\n",
      "Epoch 1900/2000 Cost: 1.490659\n",
      "Epoch 2000/2000 Cost: 1.421419\n"
     ]
    }
   ],
   "source": [
    "epochs = 2000\n",
    "for epoch in range(epochs+1):\n",
    "    # model(x_train)은 model.forward(x_train)와 동일함.\n",
    "    pred = model(x_train)\n",
    "    \n",
    "    cost = F.mse_loss(pred,y_train)\n",
    "    \n",
    "    optimizer.zero_grad()\n",
    "    cost.backward()\n",
    "    optimizer.step()\n",
    "    \n",
    "    if epoch % 100 == 0:\n",
    "    # 100번마다 로그 출력\n",
    "      print('Epoch {:4d}/{} Cost: {:.6f}'.format(\n",
    "          epoch, epochs, cost.item()\n",
    "      ))"
   ]
  },
  {
   "cell_type": "code",
   "execution_count": 30,
   "id": "0ac3605b-3ae8-4948-8829-fb91f60794d9",
   "metadata": {},
   "outputs": [],
   "source": [
    "new_var =  torch.FloatTensor([[73, 80, 75]]) "
   ]
  },
  {
   "cell_type": "code",
   "execution_count": 31,
   "id": "1e1889af-c42e-4860-90d6-d74d27e4af6c",
   "metadata": {},
   "outputs": [
    {
     "name": "stdout",
     "output_type": "stream",
     "text": [
      "tensor([[153.0104]], grad_fn=<AddmmBackward0>)\n"
     ]
    }
   ],
   "source": [
    "pred_y = model(new_var)\n",
    "print(pred_y)"
   ]
  },
  {
   "cell_type": "code",
   "execution_count": 32,
   "id": "1d8d024d-b614-492b-963a-2a31844d64a1",
   "metadata": {},
   "outputs": [
    {
     "name": "stdout",
     "output_type": "stream",
     "text": [
      "[Parameter containing:\n",
      "tensor([[0.7752, 0.7132, 0.5202]], requires_grad=True), Parameter containing:\n",
      "tensor([0.3501], requires_grad=True)]\n"
     ]
    }
   ],
   "source": [
    "print(list(model.parameters()))"
   ]
  },
  {
   "cell_type": "code",
   "execution_count": null,
   "id": "6cde01f5-5965-43c5-bb66-7fb2c098e148",
   "metadata": {},
   "outputs": [],
   "source": []
  }
 ],
 "metadata": {
  "kernelspec": {
   "display_name": "Python 3 (ipykernel)",
   "language": "python",
   "name": "python3"
  },
  "language_info": {
   "codemirror_mode": {
    "name": "ipython",
    "version": 3
   },
   "file_extension": ".py",
   "mimetype": "text/x-python",
   "name": "python",
   "nbconvert_exporter": "python",
   "pygments_lexer": "ipython3",
   "version": "3.10.9"
  }
 },
 "nbformat": 4,
 "nbformat_minor": 5
}
