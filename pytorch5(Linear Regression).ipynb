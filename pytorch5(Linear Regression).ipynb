{
 "cells": [
  {
   "cell_type": "markdown",
   "id": "e682eb56-30f0-4b0e-b61c-bd6208b41f97",
   "metadata": {},
   "source": [
    "# 라이브러리 호출"
   ]
  },
  {
   "cell_type": "code",
   "execution_count": 3,
   "id": "aa4c7eae-72b5-467e-b7c0-bb1c41574cfc",
   "metadata": {},
   "outputs": [],
   "source": [
    "import torch\n",
    "import torch.nn as nn\n",
    "import torch.nn.functional as F\n",
    "import torch.optim as optim"
   ]
  },
  {
   "cell_type": "markdown",
   "id": "e150d468-0d7d-43bc-b0f3-173a348c5494",
   "metadata": {},
   "source": [
    "# 랜덤 시드 고정"
   ]
  },
  {
   "cell_type": "code",
   "execution_count": 4,
   "id": "ecbce460-efb4-42d7-b3e8-06d62442309c",
   "metadata": {},
   "outputs": [
    {
     "data": {
      "text/plain": [
       "<torch._C.Generator at 0x21b07068590>"
      ]
     },
     "execution_count": 4,
     "metadata": {},
     "output_type": "execute_result"
    }
   ],
   "source": [
    "torch.manual_seed(1)"
   ]
  },
  {
   "cell_type": "markdown",
   "id": "5a48ab0f-4489-4424-b65a-b1fb36b62ea8",
   "metadata": {},
   "source": [
    "# 데이터 선언"
   ]
  },
  {
   "cell_type": "code",
   "execution_count": 2,
   "id": "90b24cfa-5741-4692-bc8e-f284fc41a270",
   "metadata": {},
   "outputs": [],
   "source": [
    "x_train = torch.FloatTensor([[1], [2], [3]])\n",
    "y_train = torch.FloatTensor([[2], [4], [6]])"
   ]
  },
  {
   "cell_type": "code",
   "execution_count": 6,
   "id": "99b37370-67dc-4d5a-a2c9-3fde4d13d27d",
   "metadata": {},
   "outputs": [
    {
     "name": "stdout",
     "output_type": "stream",
     "text": [
      "torch.Size([3, 1])\n",
      "2\n",
      "torch.Size([3, 1])\n",
      "2\n"
     ]
    }
   ],
   "source": [
    "print(x_train.shape)\n",
    "print(x_train.dim())\n",
    "print(y_train.shape)\n",
    "print(y_train.dim())"
   ]
  },
  {
   "cell_type": "markdown",
   "id": "72d6910d-7b97-44aa-8e45-193fb1956985",
   "metadata": {},
   "source": [
    "# 가중치와 편향 초기화"
   ]
  },
  {
   "cell_type": "code",
   "execution_count": 8,
   "id": "bf5ec566-b9cf-47bd-a7c0-08bfbb99b59d",
   "metadata": {},
   "outputs": [],
   "source": [
    "# requires_grad=True가 인자로 주어진 것을 확인할 수 있습니다. 이는 이 변수는 학습을 통해 계속 값이 변경되는 변수임을 의미합니다.\n",
    "W = torch.zeros(1,requires_grad =True)"
   ]
  },
  {
   "cell_type": "code",
   "execution_count": 9,
   "id": "ac15eba4-33a4-4f1c-92ef-fabc35f900c1",
   "metadata": {},
   "outputs": [
    {
     "name": "stdout",
     "output_type": "stream",
     "text": [
      "tensor([0.], requires_grad=True)\n"
     ]
    }
   ],
   "source": [
    "print(W)"
   ]
  },
  {
   "cell_type": "code",
   "execution_count": 10,
   "id": "da07079c-bb15-492e-bc6b-9f8e6d9a5b55",
   "metadata": {},
   "outputs": [
    {
     "name": "stdout",
     "output_type": "stream",
     "text": [
      "tensor([0.], requires_grad=True)\n"
     ]
    }
   ],
   "source": [
    "b = torch.zeros(1, requires_grad=True)\n",
    "print(b)"
   ]
  },
  {
   "cell_type": "markdown",
   "id": "eaa6ef69-d5a0-4c43-b3d0-c6f59ec922a2",
   "metadata": {},
   "source": [
    "# 가설 세우기"
   ]
  },
  {
   "cell_type": "code",
   "execution_count": 11,
   "id": "da072dee-93b1-4003-9a2c-7de2be74b2ff",
   "metadata": {},
   "outputs": [
    {
     "name": "stdout",
     "output_type": "stream",
     "text": [
      "tensor([[0.],\n",
      "        [0.],\n",
      "        [0.]], grad_fn=<AddBackward0>)\n"
     ]
    }
   ],
   "source": [
    "hypothesis = x_train * W + b\n",
    "print(hypothesis)"
   ]
  },
  {
   "cell_type": "markdown",
   "id": "a5c36ce1-5e88-42b9-a5fa-63cd13137e7b",
   "metadata": {},
   "source": [
    "# 비용함수 선언"
   ]
  },
  {
   "cell_type": "code",
   "execution_count": 12,
   "id": "d3c71b54-f7e7-45ed-ac13-5476303e8b22",
   "metadata": {},
   "outputs": [],
   "source": [
    "cost = torch.mean((hypothesis-y_train)**2)"
   ]
  },
  {
   "cell_type": "code",
   "execution_count": 13,
   "id": "38968232-a324-4f67-aa39-69f827af259a",
   "metadata": {},
   "outputs": [
    {
     "data": {
      "text/plain": [
       "tensor(18.6667, grad_fn=<MeanBackward0>)"
      ]
     },
     "execution_count": 13,
     "metadata": {},
     "output_type": "execute_result"
    }
   ],
   "source": [
    "cost"
   ]
  },
  {
   "cell_type": "markdown",
   "id": "46cd3baf-c257-4aba-9524-b04dae48f514",
   "metadata": {},
   "source": [
    "# 경사 하강법 구현하기"
   ]
  },
  {
   "cell_type": "code",
   "execution_count": 15,
   "id": "19ef957d-f768-4c14-b526-41486c5bfc0e",
   "metadata": {},
   "outputs": [],
   "source": [
    "opt = optim.SGD([W,b],lr=0.01)"
   ]
  },
  {
   "cell_type": "code",
   "execution_count": 17,
   "id": "dd6beb34-2e0a-48f8-ac04-2dee7f8da631",
   "metadata": {},
   "outputs": [],
   "source": [
    "# gradient를 0으로 초기화\n",
    "opt.zero_grad() \n",
    "# 비용 함수를 미분하여 gradient 계산\n",
    "cost.backward() \n",
    "# W와 b를 업데이트\n",
    "opt.step() "
   ]
  },
  {
   "cell_type": "code",
   "execution_count": 20,
   "id": "62137e58-31b7-464c-915d-4ea899b56ddb",
   "metadata": {},
   "outputs": [],
   "source": [
    "epochs = 2000"
   ]
  },
  {
   "cell_type": "code",
   "execution_count": 21,
   "id": "3c5482fc-4740-472b-93d0-299465431562",
   "metadata": {},
   "outputs": [
    {
     "name": "stdout",
     "output_type": "stream",
     "text": [
      "Epoch    0/2000 W: 1.801, b: 0.452, Cost: 0.029481\n",
      "Epoch  100/2000 W: 1.844, b: 0.356, Cost: 0.018218\n",
      "Epoch  200/2000 W: 1.877, b: 0.279, Cost: 0.011257\n",
      "Epoch  300/2000 W: 1.903, b: 0.220, Cost: 0.006956\n",
      "Epoch  400/2000 W: 1.924, b: 0.173, Cost: 0.004299\n",
      "Epoch  500/2000 W: 1.940, b: 0.136, Cost: 0.002656\n",
      "Epoch  600/2000 W: 1.953, b: 0.107, Cost: 0.001641\n",
      "Epoch  700/2000 W: 1.963, b: 0.084, Cost: 0.001014\n",
      "Epoch  800/2000 W: 1.971, b: 0.066, Cost: 0.000627\n",
      "Epoch  900/2000 W: 1.977, b: 0.052, Cost: 0.000387\n",
      "Epoch 1000/2000 W: 1.982, b: 0.041, Cost: 0.000239\n",
      "Epoch 1100/2000 W: 1.986, b: 0.032, Cost: 0.000148\n",
      "Epoch 1200/2000 W: 1.989, b: 0.025, Cost: 0.000091\n",
      "Epoch 1300/2000 W: 1.991, b: 0.020, Cost: 0.000056\n",
      "Epoch 1400/2000 W: 1.993, b: 0.016, Cost: 0.000035\n",
      "Epoch 1500/2000 W: 1.995, b: 0.012, Cost: 0.000022\n",
      "Epoch 1600/2000 W: 1.996, b: 0.010, Cost: 0.000013\n",
      "Epoch 1700/2000 W: 1.997, b: 0.008, Cost: 0.000008\n",
      "Epoch 1800/2000 W: 1.997, b: 0.006, Cost: 0.000005\n",
      "Epoch 1900/2000 W: 1.998, b: 0.005, Cost: 0.000003\n",
      "Epoch 2000/2000 W: 1.998, b: 0.004, Cost: 0.000002\n"
     ]
    }
   ],
   "source": [
    "for epoch in range(epochs+1):\n",
    "    hypothesis = W * x_train + b\n",
    "    cost = torch.mean((hypothesis-y_train)**2)\n",
    "    # gradient를 0으로 초기화\n",
    "    opt.zero_grad() \n",
    "    # 비용 함수를 미분하여 gradient 계산\n",
    "    cost.backward() \n",
    "    # W와 b를 업데이트\n",
    "    opt.step()\n",
    "    if epoch % 100 == 0:\n",
    "        print('Epoch {:4d}/{} W: {:.3f}, b: {:.3f}, Cost: {:.6f}'.format(epoch,epochs,W.item(),b.item(),cost.item()))"
   ]
  },
  {
   "cell_type": "markdown",
   "id": "46d95007-5363-4679-b9a0-a60ec7e44c82",
   "metadata": {},
   "source": [
    "# optimizer.zero_grad()가 필요한 이유"
   ]
  },
  {
   "cell_type": "markdown",
   "id": "02f274b2-ee48-41b2-a4fd-181399f49aa3",
   "metadata": {},
   "source": [
    "계속해서 미분값인 2가 누적되는 것을 볼 수 있습니다. 그렇기 때문에 optimizer.zero_grad()를 통해 미분값을 계속 0으로 초기화시켜줘야 합니다."
   ]
  },
  {
   "cell_type": "code",
   "execution_count": 24,
   "id": "d463abc2-51c5-405f-ac12-ce5d368f6d4a",
   "metadata": {},
   "outputs": [],
   "source": [
    "w = torch.tensor(2.0,requires_grad = True)"
   ]
  },
  {
   "cell_type": "code",
   "execution_count": 32,
   "id": "23b0f3c6-7355-45a6-9c88-a9eca73f6381",
   "metadata": {},
   "outputs": [
    {
     "name": "stdout",
     "output_type": "stream",
     "text": [
      "수식을 w로 미분한 값 : 2.0\n",
      "수식을 w로 미분한 값 : 4.0\n",
      "수식을 w로 미분한 값 : 6.0\n",
      "수식을 w로 미분한 값 : 8.0\n",
      "수식을 w로 미분한 값 : 10.0\n",
      "수식을 w로 미분한 값 : 12.0\n",
      "수식을 w로 미분한 값 : 14.0\n",
      "수식을 w로 미분한 값 : 16.0\n",
      "수식을 w로 미분한 값 : 18.0\n",
      "수식을 w로 미분한 값 : 20.0\n",
      "수식을 w로 미분한 값 : 22.0\n",
      "수식을 w로 미분한 값 : 24.0\n",
      "수식을 w로 미분한 값 : 26.0\n",
      "수식을 w로 미분한 값 : 28.0\n",
      "수식을 w로 미분한 값 : 30.0\n",
      "수식을 w로 미분한 값 : 32.0\n",
      "수식을 w로 미분한 값 : 34.0\n",
      "수식을 w로 미분한 값 : 36.0\n",
      "수식을 w로 미분한 값 : 38.0\n",
      "수식을 w로 미분한 값 : 40.0\n",
      "수식을 w로 미분한 값 : 42.0\n"
     ]
    }
   ],
   "source": [
    "epochs = 20\n",
    "for epoch in range(epochs+1):\n",
    "    z = 2*w\n",
    "    z.backward()\n",
    "    print('수식을 w로 미분한 값 : {}'.format(w.grad))"
   ]
  },
  {
   "cell_type": "markdown",
   "id": "3ddbfa49-2cc4-4b90-856b-df5e8d047c4f",
   "metadata": {},
   "source": [
    "# 자동 미분(Autograd)"
   ]
  },
  {
   "cell_type": "code",
   "execution_count": 48,
   "id": "ff081691-cd68-441a-b3c8-c7d44b551635",
   "metadata": {},
   "outputs": [],
   "source": [
    "w = torch.tensor(2.0, requires_grad= True)"
   ]
  },
  {
   "cell_type": "code",
   "execution_count": 49,
   "id": "a0f51c2b-bd51-4790-a9ca-9a5228389b83",
   "metadata": {},
   "outputs": [],
   "source": [
    "y = w**2\n",
    "z = 2*y+5"
   ]
  },
  {
   "cell_type": "code",
   "execution_count": 50,
   "id": "a6fb01c4-0d46-4c39-bd9f-ce170481640a",
   "metadata": {},
   "outputs": [],
   "source": [
    "z.backward()"
   ]
  },
  {
   "cell_type": "code",
   "execution_count": 51,
   "id": "a24fa629-8327-4783-8322-c17cd94a10e9",
   "metadata": {},
   "outputs": [
    {
     "name": "stdout",
     "output_type": "stream",
     "text": [
      "w로 미분한 값: 8.0\n"
     ]
    }
   ],
   "source": [
    "print('w로 미분한 값: {}'.format(w.grad))"
   ]
  },
  {
   "cell_type": "code",
   "execution_count": 55,
   "id": "4aaff3b8-47c2-4605-9246-b16ae43a232a",
   "metadata": {},
   "outputs": [],
   "source": [
    "test = torch.tensor(1.0)"
   ]
  },
  {
   "cell_type": "code",
   "execution_count": 56,
   "id": "25ab1039-76e3-404f-9ce2-1e6f7ebb1fac",
   "metadata": {},
   "outputs": [
    {
     "data": {
      "text/plain": [
       "1.0"
      ]
     },
     "execution_count": 56,
     "metadata": {},
     "output_type": "execute_result"
    }
   ],
   "source": [
    "test.item()"
   ]
  },
  {
   "cell_type": "code",
   "execution_count": null,
   "id": "4e486fec-51fb-4734-9233-7d1d2a27ae0c",
   "metadata": {},
   "outputs": [],
   "source": []
  }
 ],
 "metadata": {
  "kernelspec": {
   "display_name": "Python 3 (ipykernel)",
   "language": "python",
   "name": "python3"
  },
  "language_info": {
   "codemirror_mode": {
    "name": "ipython",
    "version": 3
   },
   "file_extension": ".py",
   "mimetype": "text/x-python",
   "name": "python",
   "nbconvert_exporter": "python",
   "pygments_lexer": "ipython3",
   "version": "3.10.9"
  }
 },
 "nbformat": 4,
 "nbformat_minor": 5
}
