{
 "cells": [
  {
   "cell_type": "code",
   "execution_count": 1,
   "id": "fd1ce51e-7c8f-445a-b6a3-7001a1610194",
   "metadata": {},
   "outputs": [],
   "source": [
    "import torch"
   ]
  },
  {
   "cell_type": "markdown",
   "id": "e5d571e4-7103-495d-9118-436922a61f8f",
   "metadata": {},
   "source": [
    "### 평균(Mean)"
   ]
  },
  {
   "cell_type": "code",
   "execution_count": 3,
   "id": "0a45ba25-904d-40b2-bbc2-ce4d01db2edf",
   "metadata": {},
   "outputs": [
    {
     "name": "stdout",
     "output_type": "stream",
     "text": [
      "tensor(1.5000)\n"
     ]
    }
   ],
   "source": [
    "# 1차원 벡터\n",
    "t = torch.FloatTensor([1, 2])\n",
    "print(t.mean())"
   ]
  },
  {
   "cell_type": "code",
   "execution_count": 5,
   "id": "4bcb037b-b9cd-4cfc-ac43-f086fa41c37e",
   "metadata": {},
   "outputs": [
    {
     "name": "stdout",
     "output_type": "stream",
     "text": [
      "tensor([[1., 2.],\n",
      "        [3., 4.]])\n",
      "tensor(2.5000)\n"
     ]
    }
   ],
   "source": [
    "# 2차원 행렬\n",
    "t = torch.FloatTensor([[1, 2], [3, 4]])\n",
    "print(t)\n",
    "4개의 원소의 평균인 2.5\n",
    "print(t.mean())"
   ]
  },
  {
   "cell_type": "markdown",
   "id": "2d9303ea-f95c-4f93-9f03-773b87d7e882",
   "metadata": {
    "tags": []
   },
   "source": [
    "##### dim=0이라는 것은 첫번째 차원을 의미합니다. 행렬에서 첫번째 차원은 '행'을 의미합니다. "
   ]
  },
  {
   "cell_type": "markdown",
   "id": "a3948400-9e81-4778-92c5-481bd486f004",
   "metadata": {},
   "source": [
    "##### 인자로 dim을 준다면 해당 차원을 제거한다는 의미가 됩니다. 다시 말해 행렬에서 '열'만을 남기겠다는 의미가 됩니다. 기존 행렬의 크기는 (2, 2)였지만 이를 수행하면 열의 차원만 보존되면서 (1, 2)가 됩니다. 이는 (2,)와 같으며 벡터입니다. "
   ]
  },
  {
   "cell_type": "code",
   "execution_count": 6,
   "id": "c035d7e0-b283-4bea-848b-9cb1ec577ef8",
   "metadata": {},
   "outputs": [
    {
     "name": "stdout",
     "output_type": "stream",
     "text": [
      "tensor([2., 3.])\n"
     ]
    }
   ],
   "source": [
    "print(t.mean(dim=0))"
   ]
  },
  {
   "cell_type": "code",
   "execution_count": null,
   "id": "387d4db6-bc57-4169-af63-9b9acd5bc87a",
   "metadata": {},
   "outputs": [],
   "source": [
    "# 실제 연산 과정\n",
    "t.mean(dim=0)은 입력에서 첫번째 차원을 제거한다.\n",
    "\n",
    "[[1., 2.],\n",
    " [3., 4.]]\n",
    "\n",
    "1과 3의 평균을 구하고, 2와 4의 평균을 구한다.\n",
    "결과 ==> [2., 3.]"
   ]
  },
  {
   "cell_type": "markdown",
   "id": "638b45d4-bd4a-404e-a401-7aaa7c9d9bac",
   "metadata": {
    "tags": []
   },
   "source": [
    "##### 인자로 dim=1을 주겠습니다. 이번에는 두번째 차원을 제거합니다. 즉, 열이 제거된 텐서가 되어야 합니다."
   ]
  },
  {
   "cell_type": "markdown",
   "id": "12f39e0b-1ef2-437f-858d-a1191676ff83",
   "metadata": {},
   "source": [
    "##### 열의 차원이 제거되어야 하므로 (2, 2)의 크기에서 (2, 1)의 크기가 됩니다. 이번에는 1과 2의 평균을 구하고 3과 4의 평균을 구하게 됩니다. "
   ]
  },
  {
   "cell_type": "code",
   "execution_count": 7,
   "id": "7584c58f-4d1b-4486-a720-323402f900fc",
   "metadata": {},
   "outputs": [
    {
     "name": "stdout",
     "output_type": "stream",
     "text": [
      "tensor([1.5000, 3.5000])\n"
     ]
    }
   ],
   "source": [
    "print(t.mean(dim=1))"
   ]
  },
  {
   "cell_type": "code",
   "execution_count": null,
   "id": "9f1c0f83-1c92-4966-864a-5d899f4ff567",
   "metadata": {},
   "outputs": [],
   "source": [
    "# 실제 연산 결과는 (2 × 1)\n",
    "[1.5]\n",
    "[3.5]"
   ]
  },
  {
   "cell_type": "markdown",
   "id": "3d24f944-2e25-404d-8290-57268ed2907b",
   "metadata": {},
   "source": [
    "##### dim=-1를 주는 경우를 보겠습니다. 이는 마지막 차원을 제거한다는 의미이고, 결국 열의 차원을 제거한다는 의미와 같습니다. 그러므로 위와 출력 결과가 같습니다."
   ]
  },
  {
   "cell_type": "code",
   "execution_count": 9,
   "id": "55074c4d-3e47-4538-b897-03f8b01a238c",
   "metadata": {},
   "outputs": [
    {
     "name": "stdout",
     "output_type": "stream",
     "text": [
      "tensor([1.5000, 3.5000])\n"
     ]
    }
   ],
   "source": [
    "print(t.mean(dim=-1))"
   ]
  },
  {
   "cell_type": "markdown",
   "id": "0dfeb63a-6c4d-4737-8e40-a71a0f2aa7b5",
   "metadata": {},
   "source": [
    "# 덧셈(Sum)"
   ]
  },
  {
   "cell_type": "code",
   "execution_count": 14,
   "id": "de4b8a78-e8cf-4649-b381-09f180187584",
   "metadata": {},
   "outputs": [
    {
     "name": "stdout",
     "output_type": "stream",
     "text": [
      "tensor([[1., 2.],\n",
      "        [3., 4.]])\n",
      "--------------------\n",
      "tensor(10.)\n",
      "--------------------\n",
      "tensor([4., 6.])\n",
      "--------------------\n",
      "tensor([3., 7.])\n",
      "--------------------\n",
      "tensor([3., 7.])\n"
     ]
    }
   ],
   "source": [
    "t = torch.FloatTensor([[1, 2], [3, 4]])\n",
    "print(t)\n",
    "print('-'*20)\n",
    "print(t.sum()) # 단순히 원소 전체의 덧셈을 수행\n",
    "print('-'*20)\n",
    "print(t.sum(dim=0)) # 행을 제거\n",
    "print('-'*20)\n",
    "print(t.sum(dim=1)) # 열을 제거\n",
    "print('-'*20)\n",
    "print(t.sum(dim=-1)) # 열을 제거"
   ]
  },
  {
   "cell_type": "markdown",
   "id": "cb8c9f3a-4a1d-4d96-954d-6b111c0dd553",
   "metadata": {},
   "source": [
    "# 최대(Max)와 아그맥스(ArgMax)\n"
   ]
  },
  {
   "cell_type": "markdown",
   "id": "590d7a3a-864f-4575-ae32-c35380b3b55c",
   "metadata": {},
   "source": [
    "# 최대(Max)는 원소의 최대값을 리턴하고, 아그맥스(ArgMax)는 최대값을 가진 인덱스를 리턴합니다."
   ]
  },
  {
   "cell_type": "code",
   "execution_count": 16,
   "id": "de8fe4b4-dabd-46b9-b7e8-0c685ac75f4a",
   "metadata": {},
   "outputs": [
    {
     "name": "stdout",
     "output_type": "stream",
     "text": [
      "tensor([[1., 2.],\n",
      "        [3., 4.]])\n"
     ]
    }
   ],
   "source": [
    "t = torch.FloatTensor([[1, 2], [3, 4]])\n",
    "print(t)"
   ]
  },
  {
   "cell_type": "code",
   "execution_count": 17,
   "id": "23c9f058-0e66-4ee6-a674-fbe339b7b081",
   "metadata": {},
   "outputs": [
    {
     "name": "stdout",
     "output_type": "stream",
     "text": [
      "tensor(4.)\n"
     ]
    }
   ],
   "source": [
    "print(t.max()) # Returns one value: max"
   ]
  },
  {
   "cell_type": "markdown",
   "id": "416df190-763f-48fe-8bcc-f5429d9bc9ad",
   "metadata": {},
   "source": [
    "### 행의 차원을 제거한다는 의미이므로 (1, 2) 텐서를 만듭니다. 결과는 [3, 4]입니다.\n",
    "\n",
    "그런데 [1, 1]이라는 값도 함께 리턴되었습니다. max에 dim 인자를 주면 argmax도 함께 리턴하는 특징 때문입니다. 첫번째 열에서 3의 인덱스는 1이었습니다. 두번째 열에서 4의 인덱스는 1이었습니다. 그러므로 [1, 1]이 리턴됩니다."
   ]
  },
  {
   "cell_type": "code",
   "execution_count": 18,
   "id": "eb35eb54-1da2-4fef-9db5-dbec1ddca059",
   "metadata": {},
   "outputs": [
    {
     "name": "stdout",
     "output_type": "stream",
     "text": [
      "torch.return_types.max(\n",
      "values=tensor([3., 4.]),\n",
      "indices=tensor([1, 1]))\n"
     ]
    }
   ],
   "source": [
    "print(t.max(dim=0)) # Returns two values: max and argmax"
   ]
  },
  {
   "cell_type": "code",
   "execution_count": null,
   "id": "16529546-d165-4c8e-9def-ff353c48f9f1",
   "metadata": {},
   "outputs": [],
   "source": []
  }
 ],
 "metadata": {
  "kernelspec": {
   "display_name": "Python 3 (ipykernel)",
   "language": "python",
   "name": "python3"
  },
  "language_info": {
   "codemirror_mode": {
    "name": "ipython",
    "version": 3
   },
   "file_extension": ".py",
   "mimetype": "text/x-python",
   "name": "python",
   "nbconvert_exporter": "python",
   "pygments_lexer": "ipython3",
   "version": "3.10.9"
  }
 },
 "nbformat": 4,
 "nbformat_minor": 5
}
