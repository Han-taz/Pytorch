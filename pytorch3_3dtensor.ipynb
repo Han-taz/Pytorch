{
 "cells": [
  {
   "cell_type": "markdown",
   "id": "8be37dfd-11c2-4545-ae14-b2715956c0bb",
   "metadata": {},
   "source": [
    "# 3d Tensor"
   ]
  },
  {
   "cell_type": "code",
   "execution_count": 1,
   "id": "8062ea6b-2d91-4f3b-b6f6-29e1ba84e291",
   "metadata": {},
   "outputs": [],
   "source": [
    "import torch"
   ]
  },
  {
   "cell_type": "code",
   "execution_count": 94,
   "id": "cf65f1ec-6e0c-4a2d-ba73-d61d50847191",
   "metadata": {},
   "outputs": [],
   "source": [
    "z = torch.FloatTensor(\n",
    "   [\n",
    "   [[0, 0, 0, 0, 0],\n",
    "   [50, 50, 50, 50, 50],\n",
    "   [100, 100, 100, 100, 100],\n",
    "   [150, 150, 150, 150, 150],\n",
    "   [0, 0, 0, 0, 0]],\n",
    "   \n",
    "   [[10, 10, 10, 10, 10],\n",
    "   [60, 60, 60, 60, 60],\n",
    "   [110, 110, 110, 110, 110],\n",
    "   [160, 160, 160, 160, 160],\n",
    "   [0, 0, 0, 0, 0]],\n",
    "   \n",
    "   [[20, 20, 20, 20, 20],\n",
    "   [70, 70, 70, 70, 70],\n",
    "   [120, 120, 120, 120, 120],\n",
    "   [170, 170, 170, 170, 170],\n",
    "   [250, 250, 250, 250, 250]],\n",
    "   ]\n",
    "   )"
   ]
  },
  {
   "cell_type": "code",
   "execution_count": 19,
   "id": "17eb8999-d40d-4b8c-8618-f403d02a587d",
   "metadata": {},
   "outputs": [
    {
     "name": "stdout",
     "output_type": "stream",
     "text": [
      "tensor([[[  0.,   0.,   0.,   0.,   0.],\n",
      "         [ 50.,  50.,  50.,  50.,  50.],\n",
      "         [100., 100., 100., 100., 100.],\n",
      "         [150., 150., 150., 150., 150.],\n",
      "         [  0.,   0.,   0.,   0.,   0.]],\n",
      "\n",
      "        [[ 10.,  10.,  10.,  10.,  10.],\n",
      "         [ 60.,  60.,  60.,  60.,  60.],\n",
      "         [110., 110., 110., 110., 110.],\n",
      "         [160., 160., 160., 160., 160.],\n",
      "         [  0.,   0.,   0.,   0.,   0.]],\n",
      "\n",
      "        [[ 20.,  20.,  20.,  20.,  20.],\n",
      "         [ 70.,  70.,  70.,  70.,  70.],\n",
      "         [120., 120., 120., 120., 120.],\n",
      "         [170., 170., 170., 170., 170.],\n",
      "         [250., 250., 250., 250., 250.]]])\n",
      "3차원입니다.\n",
      "3x5x5\n",
      "torch.Size([3, 5, 5])\n"
     ]
    }
   ],
   "source": [
    "print(z)\n",
    "print(f'{z.dim()}차원입니다.')\n",
    "print(f'{z.shape[0]}x{z.shape[1]}x{z.shape[-1]}')\n",
    "print(z.size())"
   ]
  },
  {
   "cell_type": "code",
   "execution_count": 72,
   "id": "ffa4230b-7b92-447d-b5ab-7ca5e52344a6",
   "metadata": {},
   "outputs": [
    {
     "data": {
      "text/plain": [
       "tensor([[[  0.,   0.,   0.,   0.,   0.],\n",
       "         [ 50.,  50.,  50.,  50.,  50.],\n",
       "         [100., 100., 100., 100., 100.],\n",
       "         [150., 150., 150., 150., 150.],\n",
       "         [  0.,   0.,   0.,   0.,   0.]],\n",
       "\n",
       "        [[ 10.,  10.,  10.,  10.,  10.],\n",
       "         [ 60.,  60.,  60.,  60.,  60.],\n",
       "         [110., 110., 110., 110., 110.],\n",
       "         [160., 160., 160., 160., 160.],\n",
       "         [  0.,   0.,   0.,   0.,   0.]],\n",
       "\n",
       "        [[ 20.,  20.,  20.,  20.,  20.],\n",
       "         [ 70.,  70.,  70.,  70.,  70.],\n",
       "         [120., 120., 120., 120., 120.],\n",
       "         [170., 170., 170., 170., 170.],\n",
       "         [250., 250., 250., 250., 250.]]])"
      ]
     },
     "execution_count": 72,
     "metadata": {},
     "output_type": "execute_result"
    }
   ],
   "source": [
    "z"
   ]
  },
  {
   "cell_type": "code",
   "execution_count": 95,
   "id": "942233aa-edfb-454e-9931-437789bf8c6b",
   "metadata": {},
   "outputs": [
    {
     "data": {
      "text/plain": [
       "tensor(84.6667)"
      ]
     },
     "execution_count": 95,
     "metadata": {},
     "output_type": "execute_result"
    }
   ],
   "source": [
    "z.mean()"
   ]
  },
  {
   "cell_type": "code",
   "execution_count": 108,
   "id": "f6ec31d0-f872-41e4-b8ad-c7e1cf50deae",
   "metadata": {},
   "outputs": [
    {
     "name": "stdout",
     "output_type": "stream",
     "text": [
      "tensor(84.6667)\n"
     ]
    }
   ],
   "source": [
    "total = 0\n",
    "count = 0\n",
    "\n",
    "for i in range(z.shape[0]):\n",
    "    for j in range(z.shape[1]):\n",
    "        for k in range(z.shape[2]):\n",
    "            total += z[i][j][k]\n",
    "            count += 1\n",
    "            \n",
    "mean = total / count\n",
    "print(mean)"
   ]
  },
  {
   "cell_type": "markdown",
   "id": "552f1de4-dcec-4279-8c6f-a17390bce9b5",
   "metadata": {},
   "source": [
    "## dim=0 5x5"
   ]
  },
  {
   "cell_type": "code",
   "execution_count": 20,
   "id": "8b348ce6-ec02-4ccb-ae21-284cb993bc33",
   "metadata": {},
   "outputs": [
    {
     "data": {
      "text/plain": [
       "tensor([[ 10.0000,  10.0000,  10.0000,  10.0000,  10.0000],\n",
       "        [ 60.0000,  60.0000,  60.0000,  60.0000,  60.0000],\n",
       "        [110.0000, 110.0000, 110.0000, 110.0000, 110.0000],\n",
       "        [160.0000, 160.0000, 160.0000, 160.0000, 160.0000],\n",
       "        [ 83.3333,  83.3333,  83.3333,  83.3333,  83.3333]])"
      ]
     },
     "execution_count": 20,
     "metadata": {},
     "output_type": "execute_result"
    }
   ],
   "source": [
    "z.mean(dim=0)# 5x5"
   ]
  },
  {
   "cell_type": "code",
   "execution_count": 34,
   "id": "53c88e45-8cab-43bd-b3b2-6ce2514cd9a7",
   "metadata": {},
   "outputs": [
    {
     "name": "stdout",
     "output_type": "stream",
     "text": [
      "10.0 60.0 110.0 160.0 83.33333333333333\n"
     ]
    }
   ],
   "source": [
    "print((0+10+20)/3,(50+60+70)/3,(100+110+120)/3,(150+160+170)/3,(0+0+250)/3)"
   ]
  },
  {
   "cell_type": "markdown",
   "id": "1039ab6d-431d-4a35-a39a-3e33e6f5dfd4",
   "metadata": {},
   "source": [
    "## dim=1 3x5"
   ]
  },
  {
   "cell_type": "code",
   "execution_count": 35,
   "id": "f8dd318e-20f6-410e-89b3-5dfdcc525893",
   "metadata": {},
   "outputs": [
    {
     "data": {
      "text/plain": [
       "tensor([[ 60.,  60.,  60.,  60.,  60.],\n",
       "        [ 68.,  68.,  68.,  68.,  68.],\n",
       "        [126., 126., 126., 126., 126.]])"
      ]
     },
     "execution_count": 35,
     "metadata": {},
     "output_type": "execute_result"
    }
   ],
   "source": [
    "z.mean(dim=1)"
   ]
  },
  {
   "cell_type": "code",
   "execution_count": 39,
   "id": "d2cd2d72-6cb5-4615-b1a6-9376d8aa1383",
   "metadata": {},
   "outputs": [
    {
     "name": "stdout",
     "output_type": "stream",
     "text": [
      "60.0 68.0 126.0\n"
     ]
    }
   ],
   "source": [
    "print((0+50+100+150+0)/5,(10+60+110+160+0)/5,(20+70+120+170+250)/5)"
   ]
  },
  {
   "cell_type": "markdown",
   "id": "f2d698ae-0329-4759-881f-6eccd4deeea2",
   "metadata": {},
   "source": [
    "## dim = 2(=-1) 3x5 "
   ]
  },
  {
   "cell_type": "code",
   "execution_count": 36,
   "id": "fcc1ff9b-e7c0-4d0f-bea2-6cda549047a7",
   "metadata": {},
   "outputs": [
    {
     "data": {
      "text/plain": [
       "tensor([[  0.,  50., 100., 150.,   0.],\n",
       "        [ 10.,  60., 110., 160.,   0.],\n",
       "        [ 20.,  70., 120., 170., 250.]])"
      ]
     },
     "execution_count": 36,
     "metadata": {},
     "output_type": "execute_result"
    }
   ],
   "source": [
    "z.mean(dim=-1)"
   ]
  },
  {
   "cell_type": "code",
   "execution_count": 45,
   "id": "73f4b7f2-cc8a-4d03-8315-c423b63f7a63",
   "metadata": {},
   "outputs": [],
   "source": [
    "test_tensor=torch.zeros(3,5,dtype=float)"
   ]
  },
  {
   "cell_type": "code",
   "execution_count": 46,
   "id": "716381aa-7528-404e-9b31-baa8cd7b9f63",
   "metadata": {},
   "outputs": [
    {
     "data": {
      "text/plain": [
       "tensor([[0., 0., 0., 0., 0.],\n",
       "        [0., 0., 0., 0., 0.],\n",
       "        [0., 0., 0., 0., 0.]], dtype=torch.float64)"
      ]
     },
     "execution_count": 46,
     "metadata": {},
     "output_type": "execute_result"
    }
   ],
   "source": [
    "test_tensor"
   ]
  },
  {
   "cell_type": "code",
   "execution_count": 67,
   "id": "74551f1f-3f0b-4fe3-999c-7eb63ee3e011",
   "metadata": {},
   "outputs": [
    {
     "data": {
      "text/plain": [
       "tensor([[  0.,  50., 100., 150.,   0.],\n",
       "        [ 10.,  60., 110., 160.,   0.],\n",
       "        [ 20.,  70., 120., 170., 250.]], dtype=torch.float64)"
      ]
     },
     "execution_count": 67,
     "metadata": {},
     "output_type": "execute_result"
    }
   ],
   "source": [
    "for i in range(3):\n",
    "    for j in range(5):\n",
    "        num=0\n",
    "        for k in range(5):\n",
    "            num+=(z[i][j][k])/5\n",
    "            #print(int(num))\n",
    "            test_tensor[i][j]=num\n",
    "test_tensor "
   ]
  },
  {
   "cell_type": "markdown",
   "id": "8f290252-6f98-4aa5-a9b1-a361175b8c73",
   "metadata": {},
   "source": [
    "## permute와 transpose"
   ]
  },
  {
   "cell_type": "markdown",
   "id": "d98b4191-b94b-4865-8205-66a02756ebc4",
   "metadata": {},
   "source": [
    "permute()와 transpose()는 유사한 방식으로 작동한다. transpose()는 딱 두 개의 차원을 맞교환할 수 있다. 그러나 permute()는 모든 차원들을 맞교환할 수 있다."
   ]
  },
  {
   "cell_type": "code",
   "execution_count": 81,
   "id": "600ba059-515d-488e-ae2b-0014aa66a6c3",
   "metadata": {},
   "outputs": [
    {
     "name": "stdout",
     "output_type": "stream",
     "text": [
      "torch.Size([16, 32, 3])\n",
      "3\n"
     ]
    }
   ],
   "source": [
    "x = torch.rand(16, 32, 3)\n",
    "print(x.shape)\n",
    "print(x.dim())\n"
   ]
  },
  {
   "cell_type": "code",
   "execution_count": 84,
   "id": "c3714802-2f66-4c33-b4b1-c07177ac1065",
   "metadata": {
    "tags": []
   },
   "outputs": [
    {
     "data": {
      "text/plain": [
       "torch.Size([3, 32, 16])"
      ]
     },
     "execution_count": 84,
     "metadata": {},
     "output_type": "execute_result"
    }
   ],
   "source": [
    "y=x.transpose(0,2)\n",
    "y.shape"
   ]
  },
  {
   "cell_type": "code",
   "execution_count": 86,
   "id": "cc36a9b7-f782-440d-b0ed-bde49bbc5560",
   "metadata": {},
   "outputs": [
    {
     "data": {
      "text/plain": [
       "torch.Size([3, 32, 16])"
      ]
     },
     "execution_count": 86,
     "metadata": {},
     "output_type": "execute_result"
    }
   ],
   "source": [
    "z=x.permute(2,1,0)\n",
    "z.shape"
   ]
  },
  {
   "cell_type": "code",
   "execution_count": 8,
   "id": "ce391362-3347-4a05-bf97-cb1cc4d2f035",
   "metadata": {},
   "outputs": [
    {
     "data": {
      "text/plain": [
       "tensor([[[  0,  10,  20],\n",
       "         [ 50,  60,  70],\n",
       "         [100, 110, 120],\n",
       "         [150, 160, 170],\n",
       "         [  0,   0, 250]],\n",
       "\n",
       "        [[  0,  10,  20],\n",
       "         [ 50,  60,  70],\n",
       "         [100, 110, 120],\n",
       "         [150, 160, 170],\n",
       "         [  0,   0, 250]],\n",
       "\n",
       "        [[  0,  10,  20],\n",
       "         [ 50,  60,  70],\n",
       "         [100, 110, 120],\n",
       "         [150, 160, 170],\n",
       "         [  0,   0, 250]],\n",
       "\n",
       "        [[  0,  10,  20],\n",
       "         [ 50,  60,  70],\n",
       "         [100, 110, 120],\n",
       "         [150, 160, 170],\n",
       "         [  0,   0, 250]],\n",
       "\n",
       "        [[  0,  10,  20],\n",
       "         [ 50,  60,  70],\n",
       "         [100, 110, 120],\n",
       "         [150, 160, 170],\n",
       "         [  0,   0, 250]]], dtype=torch.int32)"
      ]
     },
     "execution_count": 8,
     "metadata": {},
     "output_type": "execute_result"
    }
   ],
   "source": [
    "z2"
   ]
  },
  {
   "cell_type": "code",
   "execution_count": null,
   "id": "be129fea-fe50-42f9-b883-2e22e6830236",
   "metadata": {},
   "outputs": [],
   "source": []
  }
 ],
 "metadata": {
  "kernelspec": {
   "display_name": "Python 3 (ipykernel)",
   "language": "python",
   "name": "python3"
  },
  "language_info": {
   "codemirror_mode": {
    "name": "ipython",
    "version": 3
   },
   "file_extension": ".py",
   "mimetype": "text/x-python",
   "name": "python",
   "nbconvert_exporter": "python",
   "pygments_lexer": "ipython3",
   "version": "3.10.9"
  }
 },
 "nbformat": 4,
 "nbformat_minor": 5
}
