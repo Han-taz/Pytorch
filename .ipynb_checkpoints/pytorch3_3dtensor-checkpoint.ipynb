{
 "cells": [
  {
   "cell_type": "markdown",
   "id": "8be37dfd-11c2-4545-ae14-b2715956c0bb",
   "metadata": {},
   "source": [
    "# 3d Tensor"
   ]
  },
  {
   "cell_type": "code",
   "execution_count": 2,
   "id": "cf65f1ec-6e0c-4a2d-ba73-d61d50847191",
   "metadata": {},
   "outputs": [],
   "source": [
    "z = torch.IntTensor(\n",
    "   [\n",
    "   [[0, 0, 0, 0, 0],\n",
    "   [50, 50, 50, 50, 50],\n",
    "   [100, 100, 100, 100, 100],\n",
    "   [150, 150, 150, 150, 150],\n",
    "   [0, 0, 0, 0, 0]],\n",
    "   \n",
    "   [[10, 10, 10, 10, 10],\n",
    "   [60, 60, 60, 60, 60],\n",
    "   [110, 110, 110, 110, 110],\n",
    "   [160, 160, 160, 160, 160],\n",
    "   [0, 0, 0, 0, 0]],\n",
    "   \n",
    "   [[20, 20, 20, 20, 20],\n",
    "   [70, 70, 70, 70, 70],\n",
    "   [120, 120, 120, 120, 120],\n",
    "   [170, 170, 170, 170, 170],\n",
    "   [250, 250, 250, 250, 250]],\n",
    "   ]\n",
    "   )"
   ]
  },
  {
   "cell_type": "code",
   "execution_count": 3,
   "id": "17eb8999-d40d-4b8c-8618-f403d02a587d",
   "metadata": {},
   "outputs": [
    {
     "name": "stdout",
     "output_type": "stream",
     "text": [
      "tensor([[[  0,   0,   0,   0,   0],\n",
      "         [ 50,  50,  50,  50,  50],\n",
      "         [100, 100, 100, 100, 100],\n",
      "         [150, 150, 150, 150, 150],\n",
      "         [  0,   0,   0,   0,   0]],\n",
      "\n",
      "        [[ 10,  10,  10,  10,  10],\n",
      "         [ 60,  60,  60,  60,  60],\n",
      "         [110, 110, 110, 110, 110],\n",
      "         [160, 160, 160, 160, 160],\n",
      "         [  0,   0,   0,   0,   0]],\n",
      "\n",
      "        [[ 20,  20,  20,  20,  20],\n",
      "         [ 70,  70,  70,  70,  70],\n",
      "         [120, 120, 120, 120, 120],\n",
      "         [170, 170, 170, 170, 170],\n",
      "         [250, 250, 250, 250, 250]]], dtype=torch.int32)\n",
      "3차원입니다.\n",
      "3x5x5\n",
      "torch.Size([3, 5, 5])\n"
     ]
    }
   ],
   "source": [
    "print(z)\n",
    "print(f'{z.dim()}차원입니다.')\n",
    "print(f'{z.shape[0]}x{z.shape[1]}x{z.shape[-1]}')\n",
    "print(z.size())"
   ]
  },
  {
   "cell_type": "code",
   "execution_count": 4,
   "id": "ceaa5a34-d2eb-4c56-b992-424c7c7d0c88",
   "metadata": {},
   "outputs": [],
   "source": [
    "import matplotlib.pyplot as plt"
   ]
  },
  {
   "cell_type": "code",
   "execution_count": 5,
   "id": "600ba059-515d-488e-ae2b-0014aa66a6c3",
   "metadata": {},
   "outputs": [
    {
     "name": "stdout",
     "output_type": "stream",
     "text": [
      "3\n",
      "torch.Size([5, 5, 3])\n"
     ]
    }
   ],
   "source": [
    "z1 = z.permute(1,2,0)\n",
    "print(z1.dim())\n",
    "print(z1.shape)"
   ]
  },
  {
   "cell_type": "code",
   "execution_count": 6,
   "id": "c3714802-2f66-4c33-b4b1-c07177ac1065",
   "metadata": {},
   "outputs": [
    {
     "data": {
      "text/plain": [
       "tensor([[[  0,  10,  20],\n",
       "         [  0,  10,  20],\n",
       "         [  0,  10,  20],\n",
       "         [  0,  10,  20],\n",
       "         [  0,  10,  20]],\n",
       "\n",
       "        [[ 50,  60,  70],\n",
       "         [ 50,  60,  70],\n",
       "         [ 50,  60,  70],\n",
       "         [ 50,  60,  70],\n",
       "         [ 50,  60,  70]],\n",
       "\n",
       "        [[100, 110, 120],\n",
       "         [100, 110, 120],\n",
       "         [100, 110, 120],\n",
       "         [100, 110, 120],\n",
       "         [100, 110, 120]],\n",
       "\n",
       "        [[150, 160, 170],\n",
       "         [150, 160, 170],\n",
       "         [150, 160, 170],\n",
       "         [150, 160, 170],\n",
       "         [150, 160, 170]],\n",
       "\n",
       "        [[  0,   0, 250],\n",
       "         [  0,   0, 250],\n",
       "         [  0,   0, 250],\n",
       "         [  0,   0, 250],\n",
       "         [  0,   0, 250]]], dtype=torch.int32)"
      ]
     },
     "execution_count": 6,
     "metadata": {},
     "output_type": "execute_result"
    }
   ],
   "source": [
    "z1"
   ]
  },
  {
   "cell_type": "code",
   "execution_count": null,
   "id": "116d274f-6d1d-410e-a97e-f3db412d20e0",
   "metadata": {},
   "outputs": [
    {
     "data": {
      "text/plain": [
       "<matplotlib.image.AxesImage at 0x29217d5fe20>"
      ]
     },
     "execution_count": 7,
     "metadata": {},
     "output_type": "execute_result"
    }
   ],
   "source": [
    "plt.imshow(z1)"
   ]
  },
  {
   "cell_type": "code",
   "execution_count": null,
   "id": "cc36a9b7-f782-440d-b0ed-bde49bbc5560",
   "metadata": {},
   "outputs": [],
   "source": []
  }
 ],
 "metadata": {
  "kernelspec": {
   "display_name": "Python 3 (ipykernel)",
   "language": "python",
   "name": "python3"
  },
  "language_info": {
   "codemirror_mode": {
    "name": "ipython",
    "version": 3
   },
   "file_extension": ".py",
   "mimetype": "text/x-python",
   "name": "python",
   "nbconvert_exporter": "python",
   "pygments_lexer": "ipython3",
   "version": "3.10.9"
  }
 },
 "nbformat": 4,
 "nbformat_minor": 5
}
