{
 "cells": [
  {
   "cell_type": "markdown",
   "id": "9fe7ebc4-f2ea-4ef7-a68a-be8116a7aebc",
   "metadata": {},
   "source": [
    "# View \n",
    "원소의 수를 유지하면서 텐서의 크기 변경. 매우 중요!"
   ]
  },
  {
   "cell_type": "markdown",
   "id": "fef79ab9-b26d-41bf-9add-f0cf068d437c",
   "metadata": {},
   "source": [
    "파이토치 텐서의 뷰(View)는 넘파이에서의 리쉐이프(Reshape)와 같은 역할을 합니다. Reshape라는 이름에서 알 수 있듯이, 텐서의 크기(Shape)를 변경해주는 역할을 합니다."
   ]
  },
  {
   "cell_type": "code",
   "execution_count": 2,
   "id": "8249f95e-d2a4-42ee-9224-0eb0ecf26f6d",
   "metadata": {},
   "outputs": [],
   "source": [
    "import numpy as np\n",
    "import torch"
   ]
  },
  {
   "cell_type": "code",
   "execution_count": 4,
   "id": "748e6ecb-1d8d-4e16-be68-6cc71345d7ad",
   "metadata": {},
   "outputs": [
    {
     "name": "stdout",
     "output_type": "stream",
     "text": [
      "torch.Size([2, 2, 3])\n",
      "3\n"
     ]
    }
   ],
   "source": [
    "t = np.array([[[0, 1, 2],\n",
    "               [3, 4, 5]],\n",
    "              [[6, 7, 8],\n",
    "               [9, 10, 11]]])\n",
    "ft = torch.FloatTensor(t)\n",
    "ft\n",
    "print(ft.shape)\n",
    "print(ft.dim())"
   ]
  },
  {
   "cell_type": "markdown",
   "id": "367ddff6-429e-4492-818c-3372ba7f294e",
   "metadata": {},
   "source": [
    "## 3차원 텐서에서 2차원 텐서로 변경"
   ]
  },
  {
   "cell_type": "code",
   "execution_count": 10,
   "id": "e66c1672-c181-4298-bec8-c39d5f35ec5a",
   "metadata": {},
   "outputs": [
    {
     "name": "stdout",
     "output_type": "stream",
     "text": [
      "tensor([[ 0.,  1.,  2.],\n",
      "        [ 3.,  4.,  5.],\n",
      "        [ 6.,  7.,  8.],\n",
      "        [ 9., 10., 11.]])\n",
      "torch.Size([4, 3])\n",
      "2\n"
     ]
    }
   ],
   "source": [
    "print(ft.view([-1,3]))\n",
    "print(ft.view([-1,3]).shape)\n",
    "print(ft.view([-1,3]).dim())"
   ]
  },
  {
   "cell_type": "markdown",
   "id": "2f36c695-8fd7-4913-85d4-04338cc4e6c8",
   "metadata": {},
   "source": [
    "view([-1, 3])이 가지는 의미는 이와 같습니다. -1은 첫번째 차원은 사용자가 잘 모르겠으니 파이토치에 맡기겠다는 의미이고, 3은 두번째 차원의 길이는 3을 가지도록 하라는 의미입니다. 다시 말해 현재 3차원 텐서를 2차원 텐서로 변경하되 (?, 3)의 크기로 변경하라는 의미입니다. "
   ]
  },
  {
   "cell_type": "code",
   "execution_count": 12,
   "id": "2d5ee01b-4e89-41de-afe4-689fa14809f4",
   "metadata": {},
   "outputs": [
    {
     "name": "stdout",
     "output_type": "stream",
     "text": [
      "tensor([[[ 0.,  1.,  2.]],\n",
      "\n",
      "        [[ 3.,  4.,  5.]],\n",
      "\n",
      "        [[ 6.,  7.,  8.]],\n",
      "\n",
      "        [[ 9., 10., 11.]]])\n",
      "torch.Size([4, 1, 3])\n",
      "3\n"
     ]
    }
   ],
   "source": [
    "print(ft.view([-1,1,3]))\n",
    "print(ft.view([-1,1,3]).shape)\n",
    "print(ft.view([-1,1,3]).dim())"
   ]
  },
  {
   "cell_type": "markdown",
   "id": "db26af82-b0fb-483e-aced-77b0e241ff91",
   "metadata": {},
   "source": [
    "## Squeeze  \n",
    "1인 차원을 제거한다."
   ]
  },
  {
   "cell_type": "markdown",
   "id": "4971160b-6fbd-40c5-843b-f1acda5f261d",
   "metadata": {},
   "source": [
    "스퀴즈는 차원이 1인 경우에는 해당 차원을 제거합니다."
   ]
  },
  {
   "cell_type": "code",
   "execution_count": 50,
   "id": "8520768d-4eea-4ca4-be48-597fb8734729",
   "metadata": {},
   "outputs": [
    {
     "name": "stdout",
     "output_type": "stream",
     "text": [
      "tensor([[0.],\n",
      "        [1.],\n",
      "        [2.]])\n",
      "torch.Size([3, 1])\n",
      "2\n"
     ]
    }
   ],
   "source": [
    "ft = torch.FloatTensor([[0], [1], [2]])\n",
    "print(ft)\n",
    "print(ft.shape)\n",
    "print(ft.dim())"
   ]
  },
  {
   "cell_type": "code",
   "execution_count": 25,
   "id": "236bdfd4-0b3b-4059-8c23-ca1cf16f6307",
   "metadata": {},
   "outputs": [
    {
     "name": "stdout",
     "output_type": "stream",
     "text": [
      "tensor([0., 1., 2.])\n",
      "torch.Size([3])\n",
      "1\n"
     ]
    }
   ],
   "source": [
    "print(ft.squeeze())\n",
    "print(ft.squeeze().shape)#(1x3)\n",
    "print(ft.squeeze().dim())"
   ]
  },
  {
   "cell_type": "code",
   "execution_count": 32,
   "id": "c9ee5fdd-5e7f-4da2-9f2f-11b03208f336",
   "metadata": {},
   "outputs": [
    {
     "data": {
      "text/plain": [
       "tensor([[0.],\n",
       "        [0.],\n",
       "        [0.],\n",
       "        [0.],\n",
       "        [0.]])"
      ]
     },
     "execution_count": 32,
     "metadata": {},
     "output_type": "execute_result"
    }
   ],
   "source": [
    "a = torch.zeros(5,1)\n",
    "a"
   ]
  },
  {
   "cell_type": "code",
   "execution_count": 52,
   "id": "146bc2c6-8864-4c11-b446-0b45b56c72f1",
   "metadata": {},
   "outputs": [
    {
     "name": "stdout",
     "output_type": "stream",
     "text": [
      "torch.Size([5])\n",
      "1\n"
     ]
    }
   ],
   "source": [
    "a.squeeze()\n",
    "print(a.squeeze().shape)\n",
    "print(a.squeeze().dim())"
   ]
  },
  {
   "cell_type": "code",
   "execution_count": 51,
   "id": "5c0b932f-7b37-406a-9f18-916dacfced14",
   "metadata": {},
   "outputs": [
    {
     "name": "stdout",
     "output_type": "stream",
     "text": [
      "torch.Size([1, 5])\n",
      "2\n"
     ]
    }
   ],
   "source": [
    "a.T\n",
    "print(a.T.shape)\n",
    "print(a.T.dim())"
   ]
  },
  {
   "cell_type": "markdown",
   "id": "7f15d552-1044-4fa1-8adc-825dcb1c5628",
   "metadata": {},
   "source": [
    "### 5차원 squeeze"
   ]
  },
  {
   "cell_type": "code",
   "execution_count": 44,
   "id": "69aa0a40-25d4-4782-9ec2-d0a0ada49219",
   "metadata": {},
   "outputs": [
    {
     "name": "stdout",
     "output_type": "stream",
     "text": [
      "5\n",
      "torch.Size([10, 5, 1, 3, 1])\n"
     ]
    }
   ],
   "source": [
    "# (A, B, 1, C, 1) 차원 형태 텐서\n",
    "x = torch.ones(10, 5, 1, 3, 1)\n",
    "print(x.dim())\n",
    "print(x.shape)"
   ]
  },
  {
   "cell_type": "code",
   "execution_count": 45,
   "id": "98d2653c-015a-4d04-a999-b054cef52cc3",
   "metadata": {},
   "outputs": [
    {
     "name": "stdout",
     "output_type": "stream",
     "text": [
      "3\n",
      "torch.Size([10, 5, 3])\n"
     ]
    }
   ],
   "source": [
    "# size가 1인 차원 전체 삭제 : (A, B, C) 차원 형태\n",
    "x1 = x.squeeze() # torch.squeeze(x) 가능\n",
    "x1.shape # torch.Size([10, 5, 3])\n",
    "print(x1.dim())\n",
    "print(x1.shape)"
   ]
  },
  {
   "cell_type": "code",
   "execution_count": 46,
   "id": "231eb114-bcb7-41b5-b5e6-bd656843de5d",
   "metadata": {},
   "outputs": [
    {
     "name": "stdout",
     "output_type": "stream",
     "text": [
      "4\n",
      "torch.Size([10, 5, 3, 1])\n"
     ]
    }
   ],
   "source": [
    "# size가 1인 차원 일부 삭제 : (A, B, 1, C) 차원 형태\n",
    "x2 = x.squeeze(dim = 2) # x.squeeze(2) 가능\n",
    "x2.shape # torch.Size([10, 5, 3, 1])\n",
    "print(x2.dim())\n",
    "print(x2.shape)"
   ]
  },
  {
   "cell_type": "code",
   "execution_count": 47,
   "id": "ff423e13-42f4-4e04-93bc-6068611fef4d",
   "metadata": {},
   "outputs": [
    {
     "name": "stdout",
     "output_type": "stream",
     "text": [
      "4\n",
      "torch.Size([10, 5, 1, 3])\n"
     ]
    }
   ],
   "source": [
    "x3 = x.squeeze(dim = -1) # dim = 4와 동일한 결과\n",
    "x3.shape # torch.Size([10, 5, 1, 3])\n",
    "print(x3.dim())\n",
    "print(x3.shape)"
   ]
  },
  {
   "cell_type": "code",
   "execution_count": 48,
   "id": "3bb1e3cf-509d-4ff2-99fc-4741d23c2dfa",
   "metadata": {},
   "outputs": [
    {
     "name": "stdout",
     "output_type": "stream",
     "text": [
      "5\n",
      "torch.Size([10, 5, 1, 3, 1])\n"
     ]
    }
   ],
   "source": [
    "# size가 1이 아닌 차원 삭제 시도(불가능)\n",
    "x4 = x.squeeze(dim = 1)\n",
    "x4.shape # torch.Size([10, 5, 1, 3, 1])\n",
    "print(x4.dim())\n",
    "print(x4.shape)"
   ]
  },
  {
   "cell_type": "markdown",
   "id": "85645a6b-9e3a-4a94-b733-06620b07e2f1",
   "metadata": {},
   "source": [
    "## Unsqueeze \n",
    "특정 위치에 1인 차원을 추가한다."
   ]
  },
  {
   "cell_type": "markdown",
   "id": "c18a80d0-bbe6-4e8c-b424-e36951e6b58c",
   "metadata": {},
   "source": [
    "언스퀴즈는 스퀴즈와 정반대입니다. 특정 위치에 1인 차원을 추가할 수 있습니다.\n",
    "  view로도 구현 가능합니다. "
   ]
  },
  {
   "cell_type": "code",
   "execution_count": 37,
   "id": "cce077fc-c7a4-45cc-bc8c-a63cd3e69d29",
   "metadata": {},
   "outputs": [
    {
     "name": "stdout",
     "output_type": "stream",
     "text": [
      "torch.Size([3])\n"
     ]
    },
    {
     "data": {
      "text/plain": [
       "tensor([0., 1., 2.])"
      ]
     },
     "execution_count": 37,
     "metadata": {},
     "output_type": "execute_result"
    }
   ],
   "source": [
    "ft = torch.Tensor([0, 1, 2])\n",
    "print(ft.shape)\n",
    "ft"
   ]
  },
  {
   "cell_type": "code",
   "execution_count": 39,
   "id": "417e99ac-94a5-432b-a69c-d8dd57987301",
   "metadata": {},
   "outputs": [
    {
     "name": "stdout",
     "output_type": "stream",
     "text": [
      "tensor([[0., 1., 2.]])\n",
      "torch.Size([1, 3])\n",
      "2\n"
     ]
    }
   ],
   "source": [
    "print(ft.unsqueeze(0))\n",
    "print(ft.unsqueeze(0).shape)\n",
    "print(ft.unsqueeze(0).dim())"
   ]
  },
  {
   "cell_type": "code",
   "execution_count": 38,
   "id": "21f43708-0c50-46f5-af67-735d337d2e15",
   "metadata": {},
   "outputs": [
    {
     "name": "stdout",
     "output_type": "stream",
     "text": [
      "tensor([[0., 1., 2.]])\n",
      "torch.Size([1, 3])\n"
     ]
    }
   ],
   "source": [
    "print(ft.view(1, -1))\n",
    "print(ft.view(1, -1).shape)"
   ]
  },
  {
   "cell_type": "code",
   "execution_count": 40,
   "id": "56545fcf-612e-4c48-af35-92b48d61c565",
   "metadata": {},
   "outputs": [
    {
     "name": "stdout",
     "output_type": "stream",
     "text": [
      "tensor([[0.],\n",
      "        [1.],\n",
      "        [2.]])\n",
      "torch.Size([3, 1])\n",
      "2\n"
     ]
    }
   ],
   "source": [
    "print(ft.unsqueeze(1))\n",
    "print(ft.unsqueeze(1).shape)\n",
    "print(ft.unsqueeze(1).dim())"
   ]
  },
  {
   "cell_type": "code",
   "execution_count": 53,
   "id": "c7544aae-aed2-4267-bf0e-286e117483fd",
   "metadata": {},
   "outputs": [],
   "source": [
    "x = torch.ones(3, 5, 7)"
   ]
  },
  {
   "cell_type": "code",
   "execution_count": 54,
   "id": "d7e0508f-60b0-4111-a685-0fb057593f4e",
   "metadata": {},
   "outputs": [
    {
     "data": {
      "text/plain": [
       "torch.Size([3, 1, 5, 7])"
      ]
     },
     "execution_count": 54,
     "metadata": {},
     "output_type": "execute_result"
    }
   ],
   "source": [
    "# 1번과 2번 사이에 dimension 추가\n",
    "x1 = x.unsqueeze(dim = 1)\n",
    "x1.shape # torch.Size([3, 1, 5, 7])"
   ]
  },
  {
   "cell_type": "code",
   "execution_count": 55,
   "id": "cdd42750-fd50-4432-afc3-23eb85394faa",
   "metadata": {},
   "outputs": [
    {
     "data": {
      "text/plain": [
       "torch.Size([3, 5, 7, 1])"
      ]
     },
     "execution_count": 55,
     "metadata": {},
     "output_type": "execute_result"
    }
   ],
   "source": [
    "# 마지막 자리에 dimension 추가\n",
    "x2 = x.unsqueeze(dim = -1) # dim = 3과 동일한 결과\n",
    "x2.shape # torch.Size([3, 5, 7, 1])"
   ]
  },
  {
   "cell_type": "code",
   "execution_count": 56,
   "id": "993556d6-6c7d-42d5-9324-0ae8fc3cb763",
   "metadata": {},
   "outputs": [
    {
     "ename": "IndexError",
     "evalue": "Dimension out of range (expected to be in range of [-4, 3], but got 4)",
     "output_type": "error",
     "traceback": [
      "\u001b[1;31m---------------------------------------------------------------------------\u001b[0m",
      "\u001b[1;31mIndexError\u001b[0m                                Traceback (most recent call last)",
      "Cell \u001b[1;32mIn[56], line 2\u001b[0m\n\u001b[0;32m      1\u001b[0m \u001b[38;5;66;03m# 오류가 발생하는 경우\u001b[39;00m\n\u001b[1;32m----> 2\u001b[0m x3 \u001b[38;5;241m=\u001b[39m \u001b[43mx\u001b[49m\u001b[38;5;241;43m.\u001b[39;49m\u001b[43munsqueeze\u001b[49m\u001b[43m(\u001b[49m\u001b[43mdim\u001b[49m\u001b[43m \u001b[49m\u001b[38;5;241;43m=\u001b[39;49m\u001b[43m \u001b[49m\u001b[38;5;241;43m4\u001b[39;49m\u001b[43m)\u001b[49m\n",
      "\u001b[1;31mIndexError\u001b[0m: Dimension out of range (expected to be in range of [-4, 3], but got 4)"
     ]
    }
   ],
   "source": [
    "# 오류가 발생하는 경우\n",
    "x3 = x.unsqueeze(dim = 4)\n",
    "# IndexError: Dimension out of range (expected to be in range of [-4, 3], but got 4)"
   ]
  },
  {
   "cell_type": "markdown",
   "id": "e0f03d05-7cd9-4c86-99ef-5e7b87e4f315",
   "metadata": {},
   "source": [
    "view(), squeeze(), unsqueeze()는 텐서의 원소 수를 그대로 유지하면서 모양과 차원을 조절합니다."
   ]
  },
  {
   "cell_type": "markdown",
   "id": "9ffacbe3-de2a-465f-88d6-f31305bb0558",
   "metadata": {},
   "source": [
    "## Type Casting"
   ]
  },
  {
   "cell_type": "code",
   "execution_count": 58,
   "id": "68c346a0-ccda-42fd-9238-ebf60e6ebf65",
   "metadata": {},
   "outputs": [
    {
     "name": "stdout",
     "output_type": "stream",
     "text": [
      "tensor([1, 2, 3, 4])\n"
     ]
    }
   ],
   "source": [
    "lt = torch.LongTensor([1, 2, 3, 4])\n",
    "print(lt)"
   ]
  },
  {
   "cell_type": "code",
   "execution_count": 59,
   "id": "169dadc3-0b03-496a-bfa1-b1477b06ff3a",
   "metadata": {},
   "outputs": [
    {
     "name": "stdout",
     "output_type": "stream",
     "text": [
      "tensor([1., 2., 3., 4.])\n"
     ]
    }
   ],
   "source": [
    "print(lt.float())"
   ]
  },
  {
   "cell_type": "code",
   "execution_count": 60,
   "id": "781d13dd-1be1-40a0-8fc4-20f5f550896d",
   "metadata": {},
   "outputs": [
    {
     "name": "stdout",
     "output_type": "stream",
     "text": [
      "tensor([1, 0, 0, 1], dtype=torch.uint8)\n"
     ]
    }
   ],
   "source": [
    "bt = torch.ByteTensor([True, False, False, True])\n",
    "print(bt)"
   ]
  },
  {
   "cell_type": "code",
   "execution_count": 61,
   "id": "dc62d6fc-1a3b-4b63-8ecb-197db75c3495",
   "metadata": {},
   "outputs": [
    {
     "name": "stdout",
     "output_type": "stream",
     "text": [
      "tensor([1, 0, 0, 1])\n",
      "tensor([1., 0., 0., 1.])\n"
     ]
    }
   ],
   "source": [
    "print(bt.long())\n",
    "print(bt.float())"
   ]
  },
  {
   "cell_type": "markdown",
   "id": "bdbfc7e1-a9d2-408f-8694-b51e4409e4b1",
   "metadata": {},
   "source": [
    "## Concatenate"
   ]
  },
  {
   "cell_type": "code",
   "execution_count": 63,
   "id": "d878ce73-597b-41bc-9d9f-4dfc1d6e15b1",
   "metadata": {},
   "outputs": [],
   "source": [
    "x = torch.FloatTensor([[1, 2], [3, 4]])\n",
    "y = torch.FloatTensor([[5, 6], [7, 8]])"
   ]
  },
  {
   "cell_type": "code",
   "execution_count": 69,
   "id": "0db83300-a1e6-4d29-8829-feaec9e4b2f2",
   "metadata": {},
   "outputs": [
    {
     "name": "stdout",
     "output_type": "stream",
     "text": [
      "tensor([[1., 2.],\n",
      "        [3., 4.],\n",
      "        [5., 6.],\n",
      "        [7., 8.]])\n",
      "torch.Size([4, 2])\n",
      "2\n"
     ]
    }
   ],
   "source": [
    "z0 = torch.cat([x,y],dim=0)\n",
    "print(z0)\n",
    "print(z0.shape)\n",
    "print(z0.dim())"
   ]
  },
  {
   "cell_type": "code",
   "execution_count": 70,
   "id": "f9b1c8a8-c09b-42c6-bf4f-5825923f6e8e",
   "metadata": {},
   "outputs": [
    {
     "name": "stdout",
     "output_type": "stream",
     "text": [
      "tensor([[1., 2., 5., 6.],\n",
      "        [3., 4., 7., 8.]])\n",
      "torch.Size([2, 4])\n",
      "2\n"
     ]
    }
   ],
   "source": [
    "z1 = torch.cat([x,y],dim=1)\n",
    "print(z1)\n",
    "print(z1.shape)\n",
    "print(z1.dim())"
   ]
  },
  {
   "cell_type": "markdown",
   "id": "22ee9f6c-62a3-49c5-8a4d-0c28ad8aebfd",
   "metadata": {},
   "source": [
    "## Stacking"
   ]
  },
  {
   "cell_type": "code",
   "execution_count": 71,
   "id": "459fed6a-5de8-4a76-b452-9847a579f5e1",
   "metadata": {},
   "outputs": [],
   "source": [
    "x = torch.FloatTensor([1, 4])\n",
    "y = torch.FloatTensor([2, 5])\n",
    "z = torch.FloatTensor([3, 6])"
   ]
  },
  {
   "cell_type": "code",
   "execution_count": 75,
   "id": "51684d46-0ffc-44dc-aeb2-578612bb534c",
   "metadata": {},
   "outputs": [
    {
     "name": "stdout",
     "output_type": "stream",
     "text": [
      "torch.Size([2])\n",
      "tensor([2., 5.])\n",
      "tensor([3., 6.])\n"
     ]
    }
   ],
   "source": [
    "print(x.shape)\n",
    "print(y)\n",
    "print(z)"
   ]
  },
  {
   "cell_type": "code",
   "execution_count": 72,
   "id": "173268a2-901e-4669-9741-89c934aaecd2",
   "metadata": {},
   "outputs": [
    {
     "name": "stdout",
     "output_type": "stream",
     "text": [
      "tensor([[1., 4.],\n",
      "        [2., 5.],\n",
      "        [3., 6.]])\n"
     ]
    }
   ],
   "source": [
    "print(torch.stack([x,y,z]))"
   ]
  },
  {
   "cell_type": "code",
   "execution_count": 73,
   "id": "5bf6a667-fd39-4411-a288-8bd7550e027b",
   "metadata": {},
   "outputs": [
    {
     "name": "stdout",
     "output_type": "stream",
     "text": [
      "tensor([[1., 4.],\n",
      "        [2., 5.],\n",
      "        [3., 6.]])\n"
     ]
    }
   ],
   "source": [
    "print(torch.cat([x.unsqueeze(0), y.unsqueeze(0), z.unsqueeze(0)], dim=0))"
   ]
  },
  {
   "cell_type": "code",
   "execution_count": 76,
   "id": "af0ffc12-0a1c-4228-b9e3-160601b1c16f",
   "metadata": {},
   "outputs": [
    {
     "name": "stdout",
     "output_type": "stream",
     "text": [
      "tensor([[1., 2., 3.],\n",
      "        [4., 5., 6.]])\n"
     ]
    }
   ],
   "source": [
    "print(torch.stack([x, y, z], dim=1))"
   ]
  },
  {
   "cell_type": "markdown",
   "id": "02b8de00-57de-436a-bc90-cc055f630e55",
   "metadata": {},
   "source": [
    "## In-place Operation"
   ]
  },
  {
   "cell_type": "code",
   "execution_count": 77,
   "id": "e038b7d3-107e-46e0-97db-fcefd2481528",
   "metadata": {},
   "outputs": [],
   "source": [
    "x = torch.FloatTensor([[1, 2], [3, 4]])"
   ]
  },
  {
   "cell_type": "code",
   "execution_count": 78,
   "id": "aea418e8-9966-44bb-a052-19ce36ff7a1e",
   "metadata": {},
   "outputs": [
    {
     "name": "stdout",
     "output_type": "stream",
     "text": [
      "tensor([[2., 4.],\n",
      "        [6., 8.]])\n",
      "tensor([[1., 2.],\n",
      "        [3., 4.]])\n"
     ]
    }
   ],
   "source": [
    "print(x.mul(2.)) # 곱하기 2를 수행한 결과를 출력\n",
    "print(x) # 기존의 값 출력"
   ]
  },
  {
   "cell_type": "code",
   "execution_count": 79,
   "id": "31b84c47-1b03-409a-8ec4-ab9f59d6039b",
   "metadata": {},
   "outputs": [
    {
     "name": "stdout",
     "output_type": "stream",
     "text": [
      "tensor([[2., 4.],\n",
      "        [6., 8.]])\n",
      "tensor([[2., 4.],\n",
      "        [6., 8.]])\n"
     ]
    }
   ],
   "source": [
    "print(x.mul_(2.))  # 곱하기 2를 수행한 결과를 변수 x에 값을 저장하면서 결과를 출력\n",
    "print(x) # 기존의 값 출력"
   ]
  },
  {
   "cell_type": "code",
   "execution_count": null,
   "id": "f279bbbc-e6b7-4e67-a6bc-ab6577c3c2d2",
   "metadata": {},
   "outputs": [],
   "source": []
  }
 ],
 "metadata": {
  "kernelspec": {
   "display_name": "Python 3 (ipykernel)",
   "language": "python",
   "name": "python3"
  },
  "language_info": {
   "codemirror_mode": {
    "name": "ipython",
    "version": 3
   },
   "file_extension": ".py",
   "mimetype": "text/x-python",
   "name": "python",
   "nbconvert_exporter": "python",
   "pygments_lexer": "ipython3",
   "version": "3.10.9"
  }
 },
 "nbformat": 4,
 "nbformat_minor": 5
}
