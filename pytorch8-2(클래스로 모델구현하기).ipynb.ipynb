{
 "cells": [
  {
   "cell_type": "code",
   "execution_count": 2,
   "id": "f0bf2f32-c2f7-44bd-9620-6abcfff65a75",
   "metadata": {},
   "outputs": [],
   "source": [
    "import torch\n",
    "import torch.nn as nn\n",
    "import torch.nn.functional as F"
   ]
  },
  {
   "cell_type": "code",
   "execution_count": 12,
   "id": "f4877511-2708-4012-aa68-01060ed4fba0",
   "metadata": {},
   "outputs": [
    {
     "data": {
      "text/plain": [
       "<torch._C.Generator at 0x21cf65285b0>"
      ]
     },
     "execution_count": 12,
     "metadata": {},
     "output_type": "execute_result"
    }
   ],
   "source": [
    "torch.manual_seed(42)"
   ]
  },
  {
   "cell_type": "code",
   "execution_count": 20,
   "id": "b1dc8b89-1f83-4a38-9488-66c391b080c6",
   "metadata": {},
   "outputs": [],
   "source": [
    "x_train = torch.FloatTensor([[1], [2], [3]])\n",
    "y_train = torch.FloatTensor([[2], [4], [6]])"
   ]
  },
  {
   "cell_type": "markdown",
   "id": "40fac5c8-6648-4bd9-b3a1-eb67d47eb72e",
   "metadata": {},
   "source": [
    "#  단순 선형 회귀 모델"
   ]
  },
  {
   "cell_type": "code",
   "execution_count": 15,
   "id": "e487eb87-f95f-4154-8c69-ca920c6e6599",
   "metadata": {},
   "outputs": [],
   "source": [
    "class LinearRegressionModel(nn.Module):\n",
    "    def __init__(self):\n",
    "        super().__init__()\n",
    "        self.linear = nn.Linear(1,1)\n",
    "    def forward(self,x):\n",
    "        return self.linear(x)"
   ]
  },
  {
   "cell_type": "code",
   "execution_count": 16,
   "id": "19b83910-e0b0-4912-a255-6c86383c3d8d",
   "metadata": {},
   "outputs": [],
   "source": [
    "model = LinearRegressionModel()"
   ]
  },
  {
   "cell_type": "code",
   "execution_count": 17,
   "id": "5b57ab10-e6e9-47eb-8a25-7ed62afcd668",
   "metadata": {},
   "outputs": [
    {
     "data": {
      "text/plain": [
       "LinearRegressionModel(\n",
       "  (linear): Linear(in_features=1, out_features=1, bias=True)\n",
       ")"
      ]
     },
     "execution_count": 17,
     "metadata": {},
     "output_type": "execute_result"
    }
   ],
   "source": [
    "model"
   ]
  },
  {
   "cell_type": "markdown",
   "id": "13273006-d546-4989-b9cc-f199d8cbfc13",
   "metadata": {},
   "source": [
    "위와 같은 클래스를 사용한 모델 구현 형식은 대부분의 파이토치 구현체에서 사용하고 있는 방식으로 반드시 숙지할 필요가 있습니다.\n",
    "\n",
    "클래스(class) 형태의 모델은 nn.Module 을 상속받습니다. 그리고 __init__()에서 모델의 구조와 동작을 정의하는 생성자를 정의합니다. 이는 파이썬에서 객체가 갖는 속성값을 초기화하는 역할로, 객체가 생성될 때 자동으로 호출됩니다. super() 함수를 부르면 여기서 만든 클래스는 nn.Module 클래스의 속성들을 가지고 초기화 됩니다. foward() 함수는 모델이 학습데이터를 입력받아서 forward 연산을 진행시키는 함수입니다. 이 forward() 함수는 model 객체를 데이터와 함께 호출하면 자동으로 실행이됩니다. 예를 들어 model이란 이름의 객체를 생성 후, model(입력 데이터)와 같은 형식으로 객체를 호출하면 자동으로 forward 연산이 수행됩니다."
   ]
  },
  {
   "cell_type": "code",
   "execution_count": 24,
   "id": "f926734f-6335-4568-83b9-8b1e6dc7436d",
   "metadata": {},
   "outputs": [],
   "source": [
    "optimizer = torch.optim.SGD(model.parameters(),lr=1e-2)"
   ]
  },
  {
   "cell_type": "code",
   "execution_count": 25,
   "id": "ba1b577d-8caf-492f-8cc9-918988bc6279",
   "metadata": {},
   "outputs": [
    {
     "name": "stdout",
     "output_type": "stream",
     "text": [
      "Epoch    0/2000 Cost: 0.137785\n",
      "Epoch  100/2000 Cost: 0.085143\n",
      "Epoch  200/2000 Cost: 0.052613\n",
      "Epoch  300/2000 Cost: 0.032512\n",
      "Epoch  400/2000 Cost: 0.020090\n",
      "Epoch  500/2000 Cost: 0.012415\n",
      "Epoch  600/2000 Cost: 0.007671\n",
      "Epoch  700/2000 Cost: 0.004740\n",
      "Epoch  800/2000 Cost: 0.002929\n",
      "Epoch  900/2000 Cost: 0.001810\n",
      "Epoch 1000/2000 Cost: 0.001119\n",
      "Epoch 1100/2000 Cost: 0.000691\n",
      "Epoch 1200/2000 Cost: 0.000427\n",
      "Epoch 1300/2000 Cost: 0.000264\n",
      "Epoch 1400/2000 Cost: 0.000163\n",
      "Epoch 1500/2000 Cost: 0.000101\n",
      "Epoch 1600/2000 Cost: 0.000062\n",
      "Epoch 1700/2000 Cost: 0.000038\n",
      "Epoch 1800/2000 Cost: 0.000024\n",
      "Epoch 1900/2000 Cost: 0.000015\n",
      "Epoch 2000/2000 Cost: 0.000009\n"
     ]
    }
   ],
   "source": [
    "epochs = 2000\n",
    "for epoch in range(epochs+1):\n",
    "    prediction = model(x_train)\n",
    "    \n",
    "    cost = F.mse_loss(prediction,y_train)\n",
    "    optimizer.zero_grad()\n",
    "    cost.backward()\n",
    "    optimizer.step()\n",
    "    if epoch % 100 == 0:\n",
    "    # 100번마다 로그 출력\n",
    "      print('Epoch {:4d}/{} Cost: {:.6f}'.format(\n",
    "          epoch, epochs, cost.item()\n",
    "      ))    "
   ]
  },
  {
   "cell_type": "markdown",
   "id": "97aa1621-c0ae-48f3-936c-7014cd3f0dca",
   "metadata": {},
   "source": [
    "#  다중 선형 회귀 모델"
   ]
  },
  {
   "cell_type": "code",
   "execution_count": 35,
   "id": "e4bb2218-299c-4b41-9978-e109ef64d405",
   "metadata": {},
   "outputs": [],
   "source": [
    "x_train = torch.FloatTensor([[73, 80, 75],\n",
    "                             [93, 88, 93],\n",
    "                             [89, 91, 90],\n",
    "                             [96, 98, 100],\n",
    "                             [73, 66, 70]])\n",
    "y_train = torch.FloatTensor([[152], [185], [180], [196], [142]])"
   ]
  },
  {
   "cell_type": "code",
   "execution_count": 36,
   "id": "3c9218ce-23db-4a67-b7c0-bcfd107b9f36",
   "metadata": {},
   "outputs": [],
   "source": [
    "class MultivariateLinearRegressionModel(nn.Module):\n",
    "    def __init__(self):\n",
    "        super().__init__()\n",
    "        self.linear = nn.Linear(3, 1) # 다중 선형 회귀이므로 input_dim=3, output_dim=1.\n",
    "\n",
    "    def forward(self, x):\n",
    "        return self.linear(x)"
   ]
  },
  {
   "cell_type": "code",
   "execution_count": 37,
   "id": "480772d1-b6c4-4d14-b9d7-0bba63a6e092",
   "metadata": {},
   "outputs": [],
   "source": [
    "model2 = MultivariateLinearRegressionModel()"
   ]
  },
  {
   "cell_type": "code",
   "execution_count": 44,
   "id": "bd0f8ef3-9e24-41c3-9564-ff51fe03c8bb",
   "metadata": {},
   "outputs": [],
   "source": [
    "optimizer = torch.optim.SGD(model.parameters(),lr=1e-4)"
   ]
  },
  {
   "cell_type": "code",
   "execution_count": 45,
   "id": "9192ca77-a61f-41cb-9b79-c39d08d84a5c",
   "metadata": {},
   "outputs": [
    {
     "name": "stdout",
     "output_type": "stream",
     "text": [
      "Epoch    0/2000 Cost: 11066.995117\n",
      "Epoch  100/2000 Cost: 11066.995117\n",
      "Epoch  200/2000 Cost: 11066.995117\n",
      "Epoch  300/2000 Cost: 11066.995117\n",
      "Epoch  400/2000 Cost: 11066.995117\n",
      "Epoch  500/2000 Cost: 11066.995117\n",
      "Epoch  600/2000 Cost: 11066.995117\n",
      "Epoch  700/2000 Cost: 11066.995117\n",
      "Epoch  800/2000 Cost: 11066.995117\n",
      "Epoch  900/2000 Cost: 11066.995117\n",
      "Epoch 1000/2000 Cost: 11066.995117\n",
      "Epoch 1100/2000 Cost: 11066.995117\n",
      "Epoch 1200/2000 Cost: 11066.995117\n",
      "Epoch 1300/2000 Cost: 11066.995117\n",
      "Epoch 1400/2000 Cost: 11066.995117\n",
      "Epoch 1500/2000 Cost: 11066.995117\n",
      "Epoch 1600/2000 Cost: 11066.995117\n",
      "Epoch 1700/2000 Cost: 11066.995117\n",
      "Epoch 1800/2000 Cost: 11066.995117\n",
      "Epoch 1900/2000 Cost: 11066.995117\n",
      "Epoch 2000/2000 Cost: 11066.995117\n"
     ]
    }
   ],
   "source": [
    "epochs = 2000\n",
    "for epoch in range(epochs+1):\n",
    "    prediction = model2(x_train)\n",
    "    \n",
    "    cost = F.mse_loss(prediction,y_train)\n",
    "    \n",
    "    optimizer.zero_grad()\n",
    "    cost.backward()\n",
    "    optimizer.step()\n",
    "    if epoch % 100 == 0:\n",
    "    # 100번마다 로그 출력\n",
    "      print('Epoch {:4d}/{} Cost: {:.6f}'.format(\n",
    "          epoch, epochs, cost.item()\n",
    "      ))    "
   ]
  },
  {
   "cell_type": "code",
   "execution_count": null,
   "id": "c3a52947-2062-40cc-8650-2d28132200f2",
   "metadata": {},
   "outputs": [],
   "source": []
  }
 ],
 "metadata": {
  "kernelspec": {
   "display_name": "Python 3 (ipykernel)",
   "language": "python",
   "name": "python3"
  },
  "language_info": {
   "codemirror_mode": {
    "name": "ipython",
    "version": 3
   },
   "file_extension": ".py",
   "mimetype": "text/x-python",
   "name": "python",
   "nbconvert_exporter": "python",
   "pygments_lexer": "ipython3",
   "version": "3.10.9"
  }
 },
 "nbformat": 4,
 "nbformat_minor": 5
}
